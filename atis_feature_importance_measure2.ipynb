{
 "cells": [
  {
   "cell_type": "markdown",
   "metadata": {},
   "source": [
    "# Load Data"
   ]
  },
  {
   "cell_type": "code",
   "execution_count": 4,
   "metadata": {
    "collapsed": true
   },
   "outputs": [],
   "source": [
    "import gzip, pickle"
   ]
  },
  {
   "cell_type": "code",
   "execution_count": 5,
   "metadata": {
    "collapsed": true
   },
   "outputs": [],
   "source": [
    "path = \"/Users/jacobsw/Desktop/IMPLEMENTATION_CAMP/CODE/OJO/LUIS/DATA/\""
   ]
  },
  {
   "cell_type": "code",
   "execution_count": 6,
   "metadata": {
    "collapsed": false
   },
   "outputs": [],
   "source": [
    "f = gzip.open(path+'atis.fold0.pkl.gz','rb')\n",
    "train, valid, test, dicts = pickle.load(f)"
   ]
  },
  {
   "cell_type": "code",
   "execution_count": 12,
   "metadata": {
    "collapsed": false
   },
   "outputs": [],
   "source": [
    "w2i = dicts['words2idx']\n",
    "l2i = dicts['labels2idx']\n",
    "i2w = {i:w for w,i in dicts['words2idx'].iteritems()}\n",
    "i2l = {i:l for l,i in dicts['labels2idx'].iteritems()}\n",
    "word_vocab = w2i.keys()\n",
    "label_vocab = l2i.keys()"
   ]
  },
  {
   "cell_type": "code",
   "execution_count": 9,
   "metadata": {
    "collapsed": true
   },
   "outputs": [],
   "source": [
    "X_train = [map(i2w.get, encoded_sent) for encoded_sent in train[0]]\n",
    "X_test = [map(i2w.get, encoded_sent) for encoded_sent in test[0]]\n",
    "Y_train = [map(i2l.get, encoded_labels) for encoded_labels in train[2]]\n",
    "Y_test = [map(i2l.get, encoded_sent) for encoded_sent in test[2]]"
   ]
  },
  {
   "cell_type": "code",
   "execution_count": 10,
   "metadata": {
    "collapsed": false
   },
   "outputs": [
    {
     "name": "stdout",
     "output_type": "stream",
     "text": [
      "['what', 'flights', 'leave', 'atlanta', 'at', 'about', 'DIGIT', 'in', 'the', 'afternoon', 'and', 'arrive', 'in', 'san', 'francisco']\n",
      "['O', 'O', 'O', 'B-fromloc.city_name', 'O', 'B-depart_time.time_relative', 'B-depart_time.time', 'O', 'O', 'B-depart_time.period_of_day', 'O', 'O', 'O', 'B-toloc.city_name', 'I-toloc.city_name']\n",
      "\n",
      "['i', 'would', 'like', 'to', 'find', 'a', 'flight', 'from', 'charlotte', 'to', 'las', 'vegas', 'that', 'makes', 'a', 'stop', 'in', 'st.', 'louis']\n",
      "['O', 'O', 'O', 'O', 'O', 'O', 'O', 'O', 'B-fromloc.city_name', 'O', 'B-toloc.city_name', 'I-toloc.city_name', 'O', 'O', 'O', 'O', 'O', 'B-stoploc.city_name', 'I-stoploc.city_name']\n"
     ]
    }
   ],
   "source": [
    "print X_train[0]\n",
    "print Y_train[0]\n",
    "print\n",
    "print X_test[0]\n",
    "print Y_test[0]"
   ]
  },
  {
   "cell_type": "code",
   "execution_count": 14,
   "metadata": {
    "collapsed": false
   },
   "outputs": [
    {
     "name": "stdout",
     "output_type": "stream",
     "text": [
      "572\n",
      "127\n"
     ]
    }
   ],
   "source": [
    "print len(word_vocab)\n",
    "print len(label_vocab)"
   ]
  },
  {
   "cell_type": "code",
   "execution_count": 18,
   "metadata": {
    "collapsed": false
   },
   "outputs": [
    {
     "name": "stdout",
     "output_type": "stream",
     "text": [
      "3983   3983\n"
     ]
    }
   ],
   "source": [
    "print len(X_train), ' ', len(Y_train)"
   ]
  },
  {
   "cell_type": "code",
   "execution_count": 16,
   "metadata": {
    "collapsed": true
   },
   "outputs": [],
   "source": [
    "tw = X_train[0]\n",
    "tl = Y_train[0]"
   ]
  },
  {
   "cell_type": "code",
   "execution_count": 17,
   "metadata": {
    "collapsed": false,
    "scrolled": true
   },
   "outputs": [
    {
     "name": "stdout",
     "output_type": "stream",
     "text": [
      "what   flights   leave   atlanta   at   about   DIGIT   in   the   afternoon   and   arrive   in  \n"
     ]
    }
   ],
   "source": [
    "for i in range(2,len(tl)):\n",
    "    print tw[i-2], ' ', "
   ]
  },
  {
   "cell_type": "markdown",
   "metadata": {},
   "source": [
    "# Build Raw Cooccurrence Matrices"
   ]
  },
  {
   "cell_type": "code",
   "execution_count": 19,
   "metadata": {
    "collapsed": true
   },
   "outputs": [],
   "source": [
    "import numpy as np"
   ]
  },
  {
   "cell_type": "code",
   "execution_count": 27,
   "metadata": {
    "collapsed": false
   },
   "outputs": [],
   "source": [
    "def build_w2l_matrix(pos):\n",
    "    m = np.zeros((len(word_vocab),len(label_vocab)))\n",
    "    for X,Y in zip(X_train,Y_train):\n",
    "        for i in xrange(abs(pos),min(len(Y),len(Y)-pos)):\n",
    "            m[w2i[X[i+pos]]][l2i[Y[i]]] += 1\n",
    "    return m"
   ]
  },
  {
   "cell_type": "code",
   "execution_count": 28,
   "metadata": {
    "collapsed": false
   },
   "outputs": [
    {
     "name": "stdout",
     "output_type": "stream",
     "text": [
      "CPU times: user 154 ms, sys: 9.06 ms, total: 163 ms\n",
      "Wall time: 157 ms\n"
     ]
    }
   ],
   "source": [
    "%%time\n",
    "w2l_ms = {'neg2':build_w2l_matrix(pos=-2),\n",
    "          'neg1':build_w2l_matrix(pos=-1),\n",
    "          'zero':build_w2l_matrix(pos=0),\n",
    "          'pos1':build_w2l_matrix(pos=1),\n",
    "          'pos2':build_w2l_matrix(pos=2)}"
   ]
  },
  {
   "cell_type": "code",
   "execution_count": null,
   "metadata": {
    "collapsed": true
   },
   "outputs": [],
   "source": []
  },
  {
   "cell_type": "markdown",
   "metadata": {},
   "source": [
    "# Compute SPS & Asscoiation Strength"
   ]
  },
  {
   "cell_type": "markdown",
   "metadata": {},
   "source": [
    "**Informal Definition**\n",
    "\n",
    "* **Selectional Preference Strength (SPS)**: The extent to which the probability of observing a feature $ft$ increases (from its marginal probability distribution on a dataset) on conditioning $ft$ on a particular label $l$.\n",
    "\n",
    "* **Selectional Association Strength (SAS)**: The contribution of a feature value $ft_i$ to the overall $SPS$ of a label $l$ with respect to $ft$.\n",
    "\n",
    "\n",
    "**Math**\n",
    "\n",
    "* **SPS**\n",
    "\n",
    "    * $SPS(l) = D_{KL}(P(ft|l)||P(ft)) = \\sum_{i}P(ft_i|l)\\cdot log\\frac{P(ft_i|l)}{P(ft_i)}$.\n",
    "    \n",
    "\n",
    "* **SAS**\n",
    "\n",
    "    * $SAS(ft_i,l) = \\frac{P(ft_i|l)\\cdot log\\frac{P(ft_i|l)}{P(ft_i)}}{SPS(l)}$."
   ]
  },
  {
   "cell_type": "code",
   "execution_count": 29,
   "metadata": {
    "collapsed": false
   },
   "outputs": [],
   "source": [
    "from __future__ import division"
   ]
  },
  {
   "cell_type": "code",
   "execution_count": 30,
   "metadata": {
    "collapsed": true
   },
   "outputs": [],
   "source": [
    "log = lambda x: np.log(x) if x>0 else np.log(1e-20)\n",
    "div = lambda x,y: x/y if y!=0 else 0"
   ]
  },
  {
   "cell_type": "code",
   "execution_count": 34,
   "metadata": {
    "collapsed": true
   },
   "outputs": [],
   "source": [
    "# resnik association matrix\n",
    "def resnik_association_matrix(w2l):\n",
    "    \n",
    "    total_count = w2l.sum()\n",
    "    p_w = lambda w: div(w2l[w2i[w],:].sum(), total_count)\n",
    "    p_w_given_l = lambda w,l: div(w2l[w2i[w]][l2i[l]], w2l[:,l2i[l]].sum())\n",
    "    sps_w_l = lambda w,l: p_w_given_l(w,l)*log(div(p_w_given_l(w,l),p_w(w)))\n",
    "    sps_l = lambda l: sum(p_w_given_l(w,l)*log(div(p_w_given_l(w,l),p_w(w))) \n",
    "                          for w in word_vocab)\n",
    "    \n",
    "    asso_w_l = np.zeros((len(word_vocab),len(label_vocab)))\n",
    "    for l in label_vocab:\n",
    "        s_l = sps_l(l)\n",
    "        for w in word_vocab:\n",
    "            asso_w_l[w2i[w]][l2i[l]] = div(sps_w_l(w,l),s_l)\n",
    "    \n",
    "    return asso_w_l\n",
    "    "
   ]
  },
  {
   "cell_type": "code",
   "execution_count": 64,
   "metadata": {
    "collapsed": false
   },
   "outputs": [
    {
     "name": "stdout",
     "output_type": "stream",
     "text": [
      "CPU times: user 10.5 s, sys: 31.3 ms, total: 10.5 s\n",
      "Wall time: 10.5 s\n"
     ]
    }
   ],
   "source": [
    "%%time\n",
    "asso_ms = {'neg2':resnik_association_matrix(w2l_ms['neg2']),\n",
    "           'neg1':resnik_association_matrix(w2l_ms['neg1']),\n",
    "           'zero':resnik_association_matrix(w2l_ms['zero']),\n",
    "           'pos1':resnik_association_matrix(w2l_ms['pos1']),\n",
    "           'pos2':resnik_association_matrix(w2l_ms['pos2'])}"
   ]
  },
  {
   "cell_type": "code",
   "execution_count": 116,
   "metadata": {
    "collapsed": true
   },
   "outputs": [],
   "source": [
    "def top_k(asso, l, k=5):\n",
    "    \n",
    "    l_vec = asso[:,l2i[l]]\n",
    "    k_ws = np.argsort(l_vec)[::-1][:k]\n",
    "    \n",
    "    return zip(map(i2w.get, k_ws),[l_vec[w_idx] for w_idx in k_ws])"
   ]
  },
  {
   "cell_type": "code",
   "execution_count": 97,
   "metadata": {
    "collapsed": false
   },
   "outputs": [],
   "source": [
    "l1 = 'B-fromloc.city_name'\n",
    "l2 = 'B-toloc.city_name'"
   ]
  },
  {
   "cell_type": "code",
   "execution_count": 98,
   "metadata": {
    "collapsed": false
   },
   "outputs": [
    {
     "name": "stdout",
     "output_type": "stream",
     "text": [
      "[('from', 0.91907842123589178), ('between', 0.071307412020743574), ('leaving', 0.021747763665529767), ('leave', 0.010534667010072322), ('leaves', 0.00080508222757163454)]\n"
     ]
    }
   ],
   "source": [
    "top_k(asso_ms['neg1'], l1)"
   ]
  },
  {
   "cell_type": "code",
   "execution_count": 99,
   "metadata": {
    "collapsed": false,
    "scrolled": true
   },
   "outputs": [
    {
     "name": "stdout",
     "output_type": "stream",
     "text": [
      "[('to', 0.92025153953489625), ('and', 0.051358698459713206), ('in', 0.019955171600037791), ('downtown', 0.0059494972721757028), ('into', 0.0052958856826928287)]\n"
     ]
    }
   ],
   "source": [
    "top_k(asso_ms['neg1'], l2)"
   ]
  },
  {
   "cell_type": "markdown",
   "metadata": {},
   "source": [
    "##### WEAK FEATURES IN CRF FOR ATIS"
   ]
  },
  {
   "cell_type": "code",
   "execution_count": 103,
   "metadata": {
    "collapsed": true
   },
   "outputs": [],
   "source": [
    "# F1 <= 50 in CRF \n",
    "L = ['I-restriction_code','B-arrive_time.period_of_day','I-return_date.date_relative','I-airport_name',\n",
    "     'B-airport_code','I-city_name','B-restriction_code','B-depart_time.start_time','I-arrive_time.time_relative',\n",
    "     'B-arrive_date.day_number','B-arrive_date.day_name','I-fromloc.state_name','B-mod','B-toloc.country_name',\n",
    "     'B-return_date.date_relative','I-transport_type','I-arrive_time.start_time','B-airport_name',\n",
    "     'B-toloc.airport_code','B-days_code','I-state_name','I-flight_number','B-state_name','B-depart_time.end_time',\n",
    "     'B-depart_time.end_time','I-depart_time.end_time']"
   ]
  },
  {
   "cell_type": "code",
   "execution_count": 104,
   "metadata": {
    "collapsed": true
   },
   "outputs": [],
   "source": [
    "l = 'I-restriction_code'"
   ]
  },
  {
   "cell_type": "code",
   "execution_count": 106,
   "metadata": {
    "collapsed": false
   },
   "outputs": [
    {
     "name": "stdout",
     "output_type": "stream",
     "text": [
      "[('restriction', 0.9934885679918003)]\n",
      "[('DIGITDIGIT', 1.0)]\n",
      "[('ap', 1.0)]\n",
      "[('your', 0.0)]\n",
      "[('mean', 0.81521683319047966)]\n"
     ]
    }
   ],
   "source": [
    "for m in asso_ms.iterkeys():\n",
    "    top_k(asso_ms[m], l, k=1)"
   ]
  },
  {
   "cell_type": "code",
   "execution_count": 109,
   "metadata": {
    "collapsed": false
   },
   "outputs": [
    {
     "data": {
      "text/plain": [
       "0.761741080236456"
      ]
     },
     "execution_count": 109,
     "metadata": {},
     "output_type": "execute_result"
    }
   ],
   "source": [
    "0.9934885679918003*.2 + .2 + .2 + 0 + 0.81521683319047966*.2"
   ]
  },
  {
   "cell_type": "code",
   "execution_count": 110,
   "metadata": {
    "collapsed": false
   },
   "outputs": [
    {
     "name": "stdout",
     "output_type": "stream",
     "text": [
      "[('restriction', 0.9934885679918003), ('the', 0.006511432008199646), ('express', -0.0), ('flight', -0.0), ('flies', -0.0)]\n",
      "[('DIGITDIGIT', 1.0), ('your', -0.0), ('fly', -0.0), ('flights', -0.0), ('flight', -0.0)]\n",
      "[('ap', 1.0), ('your', -0.0), ('goes', -0.0), ('flights', -0.0), ('flight', -0.0)]\n",
      "[('your', 0.0), ('fifteenth', 0.0), ('flight', 0.0), ('flies', 0.0), ('fit', 0.0)]\n",
      "[('mean', 0.81521683319047966), ('restriction', 0.18478316680952037), ('flights', -0.0), ('flight', -0.0), ('flies', -0.0)]\n"
     ]
    }
   ],
   "source": [
    "for m in asso_ms.iterkeys():\n",
    "    top_k(asso_ms[m], l, k=5)"
   ]
  },
  {
   "cell_type": "code",
   "execution_count": 111,
   "metadata": {
    "collapsed": false
   },
   "outputs": [
    {
     "data": {
      "text/plain": [
       "0.6356543469602641"
      ]
     },
     "execution_count": 111,
     "metadata": {},
     "output_type": "execute_result"
    }
   ],
   "source": [
    "0.9934885679918003*.2 + .2 + .2 + 0 + 0.18478316680952037*.2"
   ]
  },
  {
   "cell_type": "code",
   "execution_count": null,
   "metadata": {
    "collapsed": true
   },
   "outputs": [],
   "source": []
  },
  {
   "cell_type": "code",
   "execution_count": 112,
   "metadata": {
    "collapsed": true
   },
   "outputs": [],
   "source": [
    "from collections import defaultdict"
   ]
  },
  {
   "cell_type": "code",
   "execution_count": 119,
   "metadata": {
    "collapsed": true
   },
   "outputs": [],
   "source": [
    "# GET [-2,+2] WORD-PROB LISTS FOR LABELS IN L (k=5)\n",
    "def get_w2p_dic(L):\n",
    "    \n",
    "    L_dic = defaultdict(lambda : defaultdict(list))\n",
    "    for l in L:\n",
    "        for pos in asso_ms.keys(): # pos = ['neg2','neg1','zero','pos1','pos2']\n",
    "            L_dic[l][pos] = top_k(asso_ms[pos],l)\n",
    "    \n",
    "    return L_dic\n",
    "    "
   ]
  },
  {
   "cell_type": "code",
   "execution_count": 262,
   "metadata": {
    "collapsed": false
   },
   "outputs": [],
   "source": [
    "# L_dic = get_w2p_dic(L) # condition: retagging on f1<.5 label types\n",
    "L_dic = get_w2p_dic(l2i.keys()) # condition: retagging on all label types "
   ]
  },
  {
   "cell_type": "code",
   "execution_count": 263,
   "metadata": {
    "collapsed": false
   },
   "outputs": [
    {
     "data": {
      "text/plain": [
       "('B-time_relative',\n",
       " defaultdict(list,\n",
       "             {'neg1': [('morning', 1.0),\n",
       "               ('go', -0.0),\n",
       "               ('flight', -0.0),\n",
       "               ('flies', -0.0),\n",
       "               ('fit', -0.0)],\n",
       "              'neg2': [('the', 1.0),\n",
       "               ('your', -0.0),\n",
       "               ('fifteenth', -0.0),\n",
       "               ('flight', -0.0),\n",
       "               ('flies', -0.0)],\n",
       "              'pos1': [('DIGIT', 1.0),\n",
       "               ('fly', -0.0),\n",
       "               ('flights', -0.0),\n",
       "               ('flight', -0.0),\n",
       "               ('flies', -0.0)],\n",
       "              'pos2': [('am', 1.0),\n",
       "               ('goes', -0.0),\n",
       "               ('flights', -0.0),\n",
       "               ('flight', -0.0),\n",
       "               ('flies', -0.0)],\n",
       "              'zero': [('around', 1.0),\n",
       "               ('goes', -0.0),\n",
       "               ('florida', -0.0),\n",
       "               ('flights', -0.0),\n",
       "               ('flight', -0.0)]}))"
      ]
     },
     "execution_count": 263,
     "metadata": {},
     "output_type": "execute_result"
    }
   ],
   "source": [
    "L_dic.items()[0]"
   ]
  },
  {
   "cell_type": "code",
   "execution_count": 124,
   "metadata": {
    "collapsed": false
   },
   "outputs": [
    {
     "name": "stdout",
     "output_type": "stream",
     "text": [
      "['what', 'flights', 'leave', 'atlanta', 'at', 'about', 'DIGIT', 'in', 'the', 'afternoon', 'and', 'arrive', 'in', 'san', 'francisco']\n"
     ]
    }
   ],
   "source": [
    "sample = X_train[0]\n",
    "print sample"
   ]
  },
  {
   "cell_type": "code",
   "execution_count": 141,
   "metadata": {
    "collapsed": true
   },
   "outputs": [],
   "source": [
    "def get_window(w_idx, X): # X: X_train[0]\n",
    "    features = [X[w_idx]]\n",
    "    if w_idx > 0:\n",
    "        features.insert(0,X[w_idx-1])\n",
    "        if w_idx > 1:\n",
    "            features.insert(0,X[w_idx-2])\n",
    "        else: features.insert(0,'BOS')\n",
    "    else: features.insert(0,'BOS'); features.insert(0,'BOS')\n",
    "    if w_idx < len(X)-1:\n",
    "        features.append(X[w_idx+1])\n",
    "        if w_idx < len(X)-2:\n",
    "            features.append(X[w_idx+2])\n",
    "        else: features.append('EOS')\n",
    "    else: features += ['EOS','EOS']\n",
    "    return features"
   ]
  },
  {
   "cell_type": "code",
   "execution_count": 142,
   "metadata": {
    "collapsed": false
   },
   "outputs": [
    {
     "name": "stdout",
     "output_type": "stream",
     "text": [
      "['BOS', 'BOS', 'what', 'flights', 'leave']\n",
      "['BOS', 'what', 'flights', 'leave', 'atlanta']\n",
      "['in', 'san', 'francisco', 'EOS', 'EOS']\n"
     ]
    }
   ],
   "source": [
    "print get_window(0,sample)\n",
    "print get_window(1,sample)\n",
    "print get_window(len(sample)-1,sample)"
   ]
  },
  {
   "cell_type": "code",
   "execution_count": 261,
   "metadata": {
    "collapsed": false
   },
   "outputs": [],
   "source": [
    "def most_likely_relabel(ws): # ws: [-2,+2], 5-word window.\n",
    "    \n",
    "    ml_new_l = {'l':'','lin_comb':0}\n",
    "    pos_list = ['neg2','neg1','zero','pos1','pos2']\n",
    "    \n",
    "    for l,w_dic in L_dic.iteritems():\n",
    "        l_lin_comb = 0\n",
    "        for pos,w in zip(pos_list,ws):\n",
    "            for wl,prob_wl in w_dic[pos]:\n",
    "                if w==wl: \n",
    "                    l_lin_comb += .2*prob_wl\n",
    "                    break\n",
    "        if l_lin_comb > ml_new_l['lin_comb']:\n",
    "            ml_new_l['l'] = l\n",
    "            ml_new_l['lin_comb'] = l_lin_comb\n",
    "    \n",
    "    return (ml_new_l['l'],ml_new_l['lin_comb'])\n",
    "    "
   ]
  },
  {
   "cell_type": "code",
   "execution_count": 154,
   "metadata": {
    "collapsed": false
   },
   "outputs": [
    {
     "name": "stdout",
     "output_type": "stream",
     "text": [
      "B-airport_code 0.667312621222\n",
      "I-arrive_time.start_time 0\n",
      "B-airport_name 0\n",
      "B-depart_time.start_time 0\n",
      "I-arrive_time.time_relative 0\n",
      "B-arrive_date.day_number 0\n",
      "I-restriction_code 0.163043366638\n",
      "B-arrive_date.day_name 0\n",
      "I-fromloc.state_name 0\n",
      "B-mod 0\n",
      "B-toloc.airport_code 0\n",
      "I-city_name 0\n",
      "B-days_code 0.4\n",
      "I-depart_time.end_time 0\n",
      "B-state_name 0\n",
      "I-state_name 0\n",
      "I-flight_number 0\n",
      "B-toloc.country_name 0\n",
      "B-arrive_time.period_of_day 0\n",
      "B-return_date.date_relative 0\n",
      "I-transport_type 0\n",
      "I-return_date.date_relative 0\n",
      "B-depart_time.end_time 0\n",
      "B-restriction_code 0\n",
      "I-airport_name 0\n"
     ]
    },
    {
     "data": {
      "text/plain": [
       "('B-airport_code', 0.66731262122185475)"
      ]
     },
     "execution_count": 154,
     "metadata": {},
     "output_type": "execute_result"
    }
   ],
   "source": [
    "# Experiment: The following label entry should be returned!!\n",
    "# \n",
    "# ('B-airport_code',\n",
    "#  defaultdict(list,\n",
    "#              {'neg1': [('is', 0.53537965145354793),\n",
    "#                ('does', 0.46462034854645201),\n",
    "#                ('your', -0.0),\n",
    "#                ('fifth', -0.0),\n",
    "#                ('flight', -0.0)],\n",
    "#               'neg2': [('what', 0.90244454901210958),\n",
    "#                ('where', 0.06343329517761026),\n",
    "#                ('city', 0.034122155810280101),\n",
    "#                ('your', -0.0),\n",
    "#                ('fifteenth', -0.0)],\n",
    "#               'pos1': [('mean', 0.5608967426638114),\n",
    "#                ('stand', 0.40210857992976262),\n",
    "#                ('washington', 0.036994677406426035),\n",
    "#                ('flies', -0.0),\n",
    "#                ('fit', -0.0)],\n",
    "#               'pos2': [('for', 1.0),\n",
    "#                ('your', -0.0),\n",
    "#                ('florida', -0.0),\n",
    "#                ('flight', -0.0),\n",
    "#                ('flies', -0.0)],\n",
    "#               'zero': [('mco', 0.33784216297980474),\n",
    "#                ('ewr', 0.28957899683983263),\n",
    "#                ('<UNK>', 0.20429812405875766),\n",
    "#                ('ord', 0.096526332279944199),\n",
    "#                ('dfw', 0.039392220834579349)]}))\n",
    "ws = ['what', 'is', 'mco', 'mean', 'for']\n",
    "most_likely_relabel(ws)"
   ]
  },
  {
   "cell_type": "code",
   "execution_count": 167,
   "metadata": {
    "collapsed": false
   },
   "outputs": [
    {
     "name": "stdout",
     "output_type": "stream",
     "text": [
      "['i', 'would', 'like', 'to', 'find', 'a', 'flight', 'from', 'charlotte', 'to', 'las', 'vegas', 'that', 'makes', 'a', 'stop', 'in', 'st.', 'louis']\n",
      "\n",
      "['O', 'O', 'O', 'O', 'O', 'O', 'O', 'O', 'B-fromloc.city_name', 'O', 'B-toloc.city_name', 'I-toloc.city_name', 'O', 'O', 'O', 'O', 'O', 'B-stoploc.city_name', 'I-stoploc.city_name']\n"
     ]
    }
   ],
   "source": [
    "sample_X = X_test[0] # note that this is the original word list, not featurized list.\n",
    "sample_Y = y_pred[0] # y_pred = [tagger.tag(sent) for sent in X_test_featurized]\n",
    "print sample_X\n",
    "print\n",
    "print sample_Y"
   ]
  },
  {
   "cell_type": "code",
   "execution_count": 269,
   "metadata": {
    "collapsed": true
   },
   "outputs": [],
   "source": [
    "def retag_check(X,Y,threshold=.5): # X,Y in X_test, pred(X_test_featurized)\n",
    "    \n",
    "    for w_idx in xrange(len(X)):\n",
    "        if Y[w_idx]!='O': continue\n",
    "        ws = get_window(w_idx,X)\n",
    "        l, prob_l = most_likely_relabel(ws)\n",
    "        if prob_l > threshold:\n",
    "            Y[w_idx] = l\n",
    "    \n",
    "    return Y\n"
   ]
  },
  {
   "cell_type": "code",
   "execution_count": 194,
   "metadata": {
    "collapsed": false
   },
   "outputs": [
    {
     "name": "stdout",
     "output_type": "stream",
     "text": [
      "['O', 'O', 'O', 'O', 'O', 'O', 'O', 'O', 'B-fromloc.city_name', 'O', 'B-toloc.city_name', 'I-toloc.city_name', 'O', 'O', 'O', 'O', 'O', 'B-stoploc.city_name', 'I-stoploc.city_name']\n"
     ]
    }
   ],
   "source": [
    "print retag_check(sample_X,sample_Y)"
   ]
  },
  {
   "cell_type": "code",
   "execution_count": null,
   "metadata": {
    "collapsed": false
   },
   "outputs": [],
   "source": []
  },
  {
   "cell_type": "markdown",
   "metadata": {},
   "source": [
    "# Good Old 5-Gram CRF"
   ]
  },
  {
   "cell_type": "code",
   "execution_count": 132,
   "metadata": {
    "collapsed": true
   },
   "outputs": [],
   "source": [
    "def word_window(w_idx, X): # X: X_train[0]\n",
    "    features = ['0'+X[w_idx]]\n",
    "    if w_idx > 0:\n",
    "        features.append('-1'+X[w_idx-1])\n",
    "        if w_idx > 1:\n",
    "            features.append('-2'+X[w_idx-2])\n",
    "        else: features.append('BOS')\n",
    "    else: features += ['BOS','BOS']\n",
    "    if w_idx < len(X)-1:\n",
    "        features.append('+1'+X[w_idx+1])\n",
    "        if w_idx < len(X)-2:\n",
    "            features.append('+2'+X[w_idx+2])\n",
    "        else: features.append('EOS')\n",
    "    else: features += ['EOS','EOS']\n",
    "    return features\n",
    "\n",
    "def sent_window(X):\n",
    "    return [word_window(w_idx, X) for w_idx in xrange(len(X))]"
   ]
  },
  {
   "cell_type": "code",
   "execution_count": 133,
   "metadata": {
    "collapsed": false
   },
   "outputs": [
    {
     "name": "stdout",
     "output_type": "stream",
     "text": [
      "['0what', 'BOS', 'BOS', '+1flights', '+2leave']\n",
      "['0flights', '-1what', 'BOS', '+1leave', '+2atlanta']\n",
      "['0francisco', '-1san', '-2in', 'EOS', 'EOS']\n"
     ]
    }
   ],
   "source": [
    "print word_window(0,X_train[0])\n",
    "print word_window(1,X_train[0])\n",
    "print word_window(len(X_train[0])-1,X_train[0])"
   ]
  },
  {
   "cell_type": "code",
   "execution_count": 78,
   "metadata": {
    "collapsed": true
   },
   "outputs": [],
   "source": [
    "X_train_featurized = [sent_window(X) for X in X_train]\n",
    "X_test_featurized = [sent_window(X) for X in X_test]"
   ]
  },
  {
   "cell_type": "code",
   "execution_count": 79,
   "metadata": {
    "collapsed": false
   },
   "outputs": [
    {
     "data": {
      "text/plain": [
       "[['0what', 'BOS', '+1flights', '+2leave'],\n",
       " ['0flights', '-1what', '+1leave', '+2atlanta'],\n",
       " ['0leave', '-1flights', '-2what', '+1atlanta', '+2at'],\n",
       " ['0atlanta', '-1leave', '-2flights', '+1at', '+2about'],\n",
       " ['0at', '-1atlanta', '-2leave', '+1about', '+2DIGIT'],\n",
       " ['0about', '-1at', '-2atlanta', '+1DIGIT', '+2in'],\n",
       " ['0DIGIT', '-1about', '-2at', '+1in', '+2the'],\n",
       " ['0in', '-1DIGIT', '-2about', '+1the', '+2afternoon'],\n",
       " ['0the', '-1in', '-2DIGIT', '+1afternoon', '+2and'],\n",
       " ['0afternoon', '-1the', '-2in', '+1and', '+2arrive'],\n",
       " ['0and', '-1afternoon', '-2the', '+1arrive', '+2in'],\n",
       " ['0arrive', '-1and', '-2afternoon', '+1in', '+2san'],\n",
       " ['0in', '-1arrive', '-2and', '+1san', '+2francisco'],\n",
       " ['0san', '-1in', '-2arrive', '+1francisco'],\n",
       " ['0francisco', '-1san', '-2in', 'EOS']]"
      ]
     },
     "execution_count": 79,
     "metadata": {},
     "output_type": "execute_result"
    }
   ],
   "source": [
    "X_train_featurized[0]"
   ]
  },
  {
   "cell_type": "code",
   "execution_count": 80,
   "metadata": {
    "collapsed": true
   },
   "outputs": [],
   "source": [
    "from itertools import chain\n",
    "from sklearn.metrics import classification_report, confusion_matrix\n",
    "from sklearn.preprocessing import LabelBinarizer\n",
    "import sklearn\n",
    "import pycrfsuite\n",
    "import os, cPickle, time, random\n",
    "from sklearn.metrics import accuracy_score\n",
    "from itertools import chain"
   ]
  },
  {
   "cell_type": "code",
   "execution_count": 81,
   "metadata": {
    "collapsed": true
   },
   "outputs": [],
   "source": [
    "crf_ner = pycrfsuite.Trainer(verbose=0)"
   ]
  },
  {
   "cell_type": "code",
   "execution_count": 82,
   "metadata": {
    "collapsed": true
   },
   "outputs": [],
   "source": [
    "for X,Y in zip(X_train_featurized, Y_train):\n",
    "    crf_ner.append(X,Y)"
   ]
  },
  {
   "cell_type": "code",
   "execution_count": 83,
   "metadata": {
    "collapsed": true
   },
   "outputs": [],
   "source": [
    "config={'c1': 1.0, # coef for L1.\n",
    "        'c2': 1e-3, # coef for L2.\n",
    "        'max_iterations': 50,\n",
    "        'feature.possible_transitions':True}\n",
    "crf_ner.set_params(config)"
   ]
  },
  {
   "cell_type": "code",
   "execution_count": 84,
   "metadata": {
    "collapsed": false
   },
   "outputs": [
    {
     "name": "stdout",
     "output_type": "stream",
     "text": [
      "CPU times: user 1min 43s, sys: 273 ms, total: 1min 44s\n",
      "Wall time: 1min 44s\n"
     ]
    }
   ],
   "source": [
    "%%time\n",
    "crf_ner.train('words_window.crfsuite')"
   ]
  },
  {
   "cell_type": "code",
   "execution_count": 85,
   "metadata": {
    "collapsed": false,
    "scrolled": true
   },
   "outputs": [
    {
     "data": {
      "text/plain": [
       "<contextlib.closing at 0x10ef83a50>"
      ]
     },
     "execution_count": 85,
     "metadata": {},
     "output_type": "execute_result"
    }
   ],
   "source": [
    "tagger = pycrfsuite.Tagger()\n",
    "tagger.open('words_window.crfsuite')"
   ]
  },
  {
   "cell_type": "markdown",
   "metadata": {},
   "source": [
    "### A. No Retagging"
   ]
  },
  {
   "cell_type": "code",
   "execution_count": 181,
   "metadata": {
    "collapsed": false
   },
   "outputs": [],
   "source": [
    "y_true = Y_test\n",
    "y_pred = [tagger.tag(sent) for sent in X_test_featurized]"
   ]
  },
  {
   "cell_type": "code",
   "execution_count": 183,
   "metadata": {
    "collapsed": true
   },
   "outputs": [],
   "source": [
    "y_true_merged = list(chain.from_iterable(y_true))\n",
    "y_pred_merged = list(chain.from_iterable(y_pred))"
   ]
  },
  {
   "cell_type": "code",
   "execution_count": 184,
   "metadata": {
    "collapsed": false
   },
   "outputs": [
    {
     "name": "stdout",
     "output_type": "stream",
     "text": [
      "Accuracy: 0.960426\n"
     ]
    }
   ],
   "source": [
    "from sklearn.metrics import accuracy_score\n",
    "print \"Accuracy: %.6f\" % accuracy_score(y_true_merged,y_pred_merged)"
   ]
  },
  {
   "cell_type": "code",
   "execution_count": 186,
   "metadata": {
    "collapsed": false
   },
   "outputs": [
    {
     "name": "stdout",
     "output_type": "stream",
     "text": [
      "                              precision    recall  f1-score   support\n",
      "\n",
      "B-depart_date.today_relative       0.89      0.89      0.89         9\n",
      " B-arrive_date.date_relative       1.00      0.50      0.67         2\n",
      " B-depart_date.date_relative       0.85      1.00      0.92        17\n",
      "          I-restriction_code       1.00      0.33      0.50         3\n",
      "      B-depart_date.day_name       0.95      0.99      0.97       212\n",
      "      I-arrive_time.end_time       0.55      0.75      0.63         8\n",
      "      B-fromloc.airport_code       1.00      0.60      0.75         5\n",
      "             B-cost_relative       1.00      0.97      0.99        37\n",
      "                   B-connect       1.00      1.00      1.00         6\n",
      "             B-flight_number       0.92      1.00      0.96        11\n",
      " B-depart_time.time_relative       0.92      0.92      0.92        65\n",
      "           I-toloc.city_name       0.92      0.97      0.95       265\n",
      " B-arrive_time.period_of_day       0.00      0.00      0.00         6\n",
      " B-depart_time.period_of_day       0.94      0.92      0.93       130\n",
      " I-return_date.date_relative       0.00      0.00      0.00         3\n",
      "    I-depart_time.start_time       0.50      1.00      0.67         1\n",
      "               B-fare_amount       1.00      1.00      1.00         2\n",
      " I-depart_time.time_relative       0.00      0.00      0.00         1\n",
      "                 B-city_name       0.84      0.46      0.59        57\n",
      "    B-depart_date.day_number       0.90      1.00      0.95        55\n",
      "              I-airport_name       0.83      0.34      0.49        29\n",
      "          B-toloc.state_code       1.00      1.00      1.00        18\n",
      "    B-arrive_date.month_name       0.00      0.00      0.00         6\n",
      "      B-stoploc.airport_code       0.00      0.00      0.00         1\n",
      "              B-airport_code       0.57      0.44      0.50         9\n",
      "    B-arrive_time.start_time       0.75      0.75      0.75         8\n",
      "             B-period_of_day       0.00      0.00      0.00         4\n",
      "          B-arrive_time.time       0.84      0.76      0.80        34\n",
      "          B-toloc.state_name       0.92      0.39      0.55        28\n",
      "             B-booking_class       0.00      0.00      0.00         1\n",
      "      B-arrive_time.end_time       0.55      0.75      0.63         8\n",
      "                      B-meal       0.94      1.00      0.97        16\n",
      " B-arrive_time.time_relative       0.92      0.77      0.84        31\n",
      "                 I-city_name       0.50      0.27      0.35        30\n",
      "                  B-day_name       0.00      0.00      0.00         2\n",
      "                        B-or       0.60      1.00      0.75         3\n",
      "          I-arrive_time.time       0.84      0.77      0.81        35\n",
      "                   B-economy       1.00      1.00      1.00         6\n",
      "      B-fromloc.airport_name       0.50      0.92      0.65        12\n",
      "      B-return_date.day_name       0.00      0.00      0.00         2\n",
      "                           O       0.98      1.00      0.99      5535\n",
      "                B-class_type       0.96      1.00      0.98        24\n",
      "                 B-meal_code       0.00      0.00      0.00         1\n",
      "          B-depart_time.time       0.76      0.91      0.83        57\n",
      "    I-depart_date.day_number       1.00      1.00      1.00        15\n",
      "          B-restriction_code       1.00      0.25      0.40         4\n",
      "           B-fare_basis_code       0.88      0.82      0.85        17\n",
      "         I-stoploc.city_name       1.00      0.70      0.82        10\n",
      "                    B-flight       0.00      0.00      0.00         1\n",
      "      I-fromloc.airport_name       0.45      1.00      0.62        15\n",
      "               B-compartment       0.00      0.00      0.00         1\n",
      "              B-airline_code       0.97      0.85      0.91        34\n",
      "        B-fromloc.state_name       0.80      0.47      0.59        17\n",
      "               B-flight_stop       1.00      1.00      1.00        21\n",
      "                B-flight_mod       1.00      0.96      0.98        24\n",
      "    B-depart_time.start_time       0.50      0.33      0.40         3\n",
      " I-arrive_time.time_relative       0.00      0.00      0.00         4\n",
      "    B-arrive_date.day_number       0.00      0.00      0.00         6\n",
      "               I-flight_time       1.00      1.00      1.00         1\n",
      "      B-arrive_date.day_name       0.67      0.36      0.47        11\n",
      "        I-fromloc.state_name       0.00      0.00      0.00         1\n",
      "                       B-mod       0.00      0.00      0.00         2\n",
      "    B-depart_date.month_name       0.90      0.98      0.94        56\n",
      "               B-flight_days       1.00      1.00      1.00        10\n",
      "             I-cost_relative       1.00      0.67      0.80         3\n",
      "               B-flight_time       1.00      1.00      1.00         1\n",
      "         B-fromloc.city_name       0.97      0.98      0.98       704\n",
      "            B-transport_type       1.00      0.80      0.89        10\n",
      "        B-toloc.country_name       0.00      0.00      0.00         1\n",
      " B-return_date.date_relative       0.00      0.00      0.00         3\n",
      "                B-round_trip       1.00      0.99      0.99        73\n",
      "            I-transport_type       0.00      0.00      0.00         1\n",
      "         I-fromloc.city_name       0.88      0.99      0.93       177\n",
      "          B-depart_date.year       1.00      1.00      1.00         3\n",
      "                I-flight_mod       0.00      0.00      0.00         6\n",
      "           B-toloc.city_name       0.96      0.98      0.97       716\n",
      "    B-depart_time.period_mod       0.71      1.00      0.83         5\n",
      "    I-arrive_time.start_time       0.00      0.00      0.00         1\n",
      "                B-state_code       1.00      1.00      1.00         1\n",
      "              B-airport_name       0.78      0.33      0.47        21\n",
      "         B-stoploc.city_name       0.94      0.85      0.89        20\n",
      "        I-toloc.airport_name       1.00      1.00      1.00         3\n",
      "          B-meal_description       1.00      0.80      0.89        10\n",
      "                I-class_type       1.00      1.00      1.00        17\n",
      "        B-toloc.airport_code       0.00      0.00      0.00         4\n",
      " I-depart_time.period_of_day       1.00      1.00      1.00         1\n",
      "          I-toloc.state_name       1.00      1.00      1.00         1\n",
      "                 B-days_code       0.00      0.00      0.00         1\n",
      "        B-toloc.airport_name       1.00      1.00      1.00         3\n",
      "          I-depart_time.time       0.87      0.90      0.89        52\n",
      "                I-round_trip       1.00      1.00      1.00        71\n",
      "                I-state_name       0.00      0.00      0.00         1\n",
      "               I-fare_amount       1.00      1.00      1.00         2\n",
      "              B-airline_name       0.99      0.97      0.98       101\n",
      "             I-flight_number       0.00      0.00      0.00         1\n",
      "              I-airline_name       0.93      0.95      0.94        65\n",
      "                B-state_name       0.00      0.00      0.00         9\n",
      "      B-depart_time.end_time       0.50      0.33      0.40         3\n",
      "             B-aircraft_code       1.00      0.58      0.73        33\n",
      "        B-fromloc.state_code       1.00      1.00      1.00        23\n",
      "      I-depart_time.end_time       0.50      0.33      0.40         3\n",
      "\n",
      "                 avg / total       0.95      0.96      0.95      9198\n",
      "\n"
     ]
    }
   ],
   "source": [
    "lb = LabelBinarizer()\n",
    "y_true_in_tags = lb.fit_transform(list(chain.from_iterable(y_true))) # get a list of tags in 1-hot.\n",
    "y_pred_in_tags = lb.transform(list(chain.from_iterable(y_pred)))\n",
    "tagset = list(set(lb.classes_))\n",
    "class_indices = {cls:idx for idx,cls in enumerate(lb.classes_)}\n",
    "print classification_report(\n",
    "    y_true_in_tags,\n",
    "    y_pred_in_tags,\n",
    "    labels = [class_indices[cls] for cls in tagset],\n",
    "    target_names = tagset\n",
    ")"
   ]
  },
  {
   "cell_type": "markdown",
   "metadata": {},
   "source": [
    "### B. Retagging on F1<.5 Label Types (Threshold = .5, only retag 'O')"
   ]
  },
  {
   "cell_type": "code",
   "execution_count": 250,
   "metadata": {
    "collapsed": true
   },
   "outputs": [],
   "source": [
    "y_true = Y_test\n",
    "y_pred = [tagger.tag(sent) for sent in X_test_featurized]"
   ]
  },
  {
   "cell_type": "code",
   "execution_count": 251,
   "metadata": {
    "collapsed": false
   },
   "outputs": [],
   "source": [
    "for i,(X,Y) in enumerate(zip(X_test,y_pred)):\n",
    "    y_pred[i] = retag_check(X,Y,.5)"
   ]
  },
  {
   "cell_type": "code",
   "execution_count": 252,
   "metadata": {
    "collapsed": true
   },
   "outputs": [],
   "source": [
    "y_true_merged = list(chain.from_iterable(y_true))\n",
    "y_pred_merged = list(chain.from_iterable(y_pred))"
   ]
  },
  {
   "cell_type": "code",
   "execution_count": 253,
   "metadata": {
    "collapsed": false
   },
   "outputs": [
    {
     "name": "stdout",
     "output_type": "stream",
     "text": [
      "Accuracy: 0.960970\n"
     ]
    }
   ],
   "source": [
    "from sklearn.metrics import accuracy_score\n",
    "print \"Accuracy: %.6f\" % accuracy_score(y_true_merged,y_pred_merged)"
   ]
  },
  {
   "cell_type": "code",
   "execution_count": 254,
   "metadata": {
    "collapsed": false
   },
   "outputs": [
    {
     "name": "stdout",
     "output_type": "stream",
     "text": [
      "                              precision    recall  f1-score   support\n",
      "\n",
      "B-depart_date.today_relative       0.89      0.89      0.89         9\n",
      " B-arrive_date.date_relative       1.00      0.50      0.67         2\n",
      " B-depart_date.date_relative       0.85      1.00      0.92        17\n",
      "          I-restriction_code       1.00      1.00      1.00         3\n",
      "      B-depart_date.day_name       0.95      0.99      0.97       212\n",
      "      I-arrive_time.end_time       0.55      0.75      0.63         8\n",
      "      B-fromloc.airport_code       1.00      0.60      0.75         5\n",
      "             B-cost_relative       1.00      0.97      0.99        37\n",
      "                   B-connect       1.00      1.00      1.00         6\n",
      "             B-flight_number       0.92      1.00      0.96        11\n",
      " B-depart_time.time_relative       0.92      0.92      0.92        65\n",
      "           I-toloc.city_name       0.92      0.97      0.95       265\n",
      " B-arrive_time.period_of_day       0.00      0.00      0.00         6\n",
      " B-depart_time.period_of_day       0.94      0.92      0.93       130\n",
      " I-return_date.date_relative       1.00      0.33      0.50         3\n",
      "    I-depart_time.start_time       0.50      1.00      0.67         1\n",
      "               B-fare_amount       1.00      1.00      1.00         2\n",
      " I-depart_time.time_relative       0.00      0.00      0.00         1\n",
      "                 B-city_name       0.84      0.46      0.59        57\n",
      "    B-depart_date.day_number       0.90      1.00      0.95        55\n",
      "              I-airport_name       0.83      0.34      0.49        29\n",
      "          B-toloc.state_code       1.00      1.00      1.00        18\n",
      "    B-arrive_date.month_name       0.00      0.00      0.00         6\n",
      "      B-stoploc.airport_code       0.00      0.00      0.00         1\n",
      "              B-airport_code       0.57      0.44      0.50         9\n",
      "    B-arrive_time.start_time       0.75      0.75      0.75         8\n",
      "             B-period_of_day       0.00      0.00      0.00         4\n",
      "          B-arrive_time.time       0.84      0.76      0.80        34\n",
      "          B-toloc.state_name       0.92      0.39      0.55        28\n",
      "             B-booking_class       0.00      0.00      0.00         1\n",
      "      B-arrive_time.end_time       0.55      0.75      0.63         8\n",
      "                      B-meal       0.94      1.00      0.97        16\n",
      " B-arrive_time.time_relative       0.92      0.77      0.84        31\n",
      "                 I-city_name       0.50      0.27      0.35        30\n",
      "                  B-day_name       0.00      0.00      0.00         2\n",
      "                        B-or       0.60      1.00      0.75         3\n",
      "          I-arrive_time.time       0.84      0.77      0.81        35\n",
      "                   B-economy       1.00      1.00      1.00         6\n",
      "      B-fromloc.airport_name       0.50      0.92      0.65        12\n",
      "      B-return_date.day_name       0.00      0.00      0.00         2\n",
      "                           O       0.98      1.00      0.99      5535\n",
      "                B-class_type       0.96      1.00      0.98        24\n",
      "                 B-meal_code       0.00      0.00      0.00         1\n",
      "          B-depart_time.time       0.76      0.91      0.83        57\n",
      "    I-depart_date.day_number       1.00      1.00      1.00        15\n",
      "          B-restriction_code       1.00      0.75      0.86         4\n",
      "           B-fare_basis_code       0.88      0.82      0.85        17\n",
      "         I-stoploc.city_name       1.00      0.70      0.82        10\n",
      "                    B-flight       0.00      0.00      0.00         1\n",
      "      I-fromloc.airport_name       0.45      1.00      0.62        15\n",
      "               B-compartment       0.00      0.00      0.00         1\n",
      "              B-airline_code       0.97      0.85      0.91        34\n",
      "        B-fromloc.state_name       0.80      0.47      0.59        17\n",
      "               B-flight_stop       1.00      1.00      1.00        21\n",
      "                B-flight_mod       1.00      0.96      0.98        24\n",
      "    B-depart_time.start_time       0.50      0.33      0.40         3\n",
      " I-arrive_time.time_relative       0.00      0.00      0.00         4\n",
      "    B-arrive_date.day_number       0.00      0.00      0.00         6\n",
      "               I-flight_time       1.00      1.00      1.00         1\n",
      "      B-arrive_date.day_name       0.67      0.36      0.47        11\n",
      "        I-fromloc.state_name       0.00      0.00      0.00         1\n",
      "                       B-mod       0.00      0.00      0.00         2\n",
      "    B-depart_date.month_name       0.90      0.98      0.94        56\n",
      "               B-flight_days       1.00      1.00      1.00        10\n",
      "             I-cost_relative       1.00      0.67      0.80         3\n",
      "               B-flight_time       1.00      1.00      1.00         1\n",
      "         B-fromloc.city_name       0.97      0.98      0.98       704\n",
      "            B-transport_type       1.00      0.80      0.89        10\n",
      "        B-toloc.country_name       0.00      0.00      0.00         1\n",
      " B-return_date.date_relative       0.00      0.00      0.00         3\n",
      "                B-round_trip       1.00      0.99      0.99        73\n",
      "            I-transport_type       0.00      0.00      0.00         1\n",
      "         I-fromloc.city_name       0.88      0.99      0.93       177\n",
      "          B-depart_date.year       1.00      1.00      1.00         3\n",
      "                I-flight_mod       0.00      0.00      0.00         6\n",
      "           B-toloc.city_name       0.96      0.98      0.97       716\n",
      "    B-depart_time.period_mod       0.71      1.00      0.83         5\n",
      "    I-arrive_time.start_time       0.00      0.00      0.00         1\n",
      "                B-state_code       1.00      1.00      1.00         1\n",
      "              B-airport_name       0.78      0.33      0.47        21\n",
      "         B-stoploc.city_name       0.94      0.85      0.89        20\n",
      "        I-toloc.airport_name       1.00      1.00      1.00         3\n",
      "          B-meal_description       1.00      0.80      0.89        10\n",
      "                I-class_type       1.00      1.00      1.00        17\n",
      "        B-toloc.airport_code       0.00      0.00      0.00         4\n",
      " I-depart_time.period_of_day       1.00      1.00      1.00         1\n",
      "          I-toloc.state_name       1.00      1.00      1.00         1\n",
      "                 B-days_code       0.00      0.00      0.00         1\n",
      "        B-toloc.airport_name       1.00      1.00      1.00         3\n",
      "          I-depart_time.time       0.87      0.90      0.89        52\n",
      "                I-round_trip       1.00      1.00      1.00        71\n",
      "                I-state_name       0.00      0.00      0.00         1\n",
      "               I-fare_amount       1.00      1.00      1.00         2\n",
      "              B-airline_name       0.99      0.97      0.98       101\n",
      "             I-flight_number       0.00      0.00      0.00         1\n",
      "              I-airline_name       0.93      0.95      0.94        65\n",
      "                B-state_name       0.00      0.00      0.00         9\n",
      "      B-depart_time.end_time       0.50      0.33      0.40         3\n",
      "             B-aircraft_code       1.00      0.58      0.73        33\n",
      "        B-fromloc.state_code       1.00      1.00      1.00        23\n",
      "      I-depart_time.end_time       0.50      0.33      0.40         3\n",
      "\n",
      "                 avg / total       0.95      0.96      0.96      9198\n",
      "\n"
     ]
    }
   ],
   "source": [
    "lb = LabelBinarizer()\n",
    "y_true_in_tags = lb.fit_transform(list(chain.from_iterable(y_true))) # get a list of tags in 1-hot.\n",
    "y_pred_in_tags = lb.transform(list(chain.from_iterable(y_pred)))\n",
    "tagset = list(set(lb.classes_))\n",
    "class_indices = {cls:idx for idx,cls in enumerate(lb.classes_)}\n",
    "print classification_report(\n",
    "    y_true_in_tags,\n",
    "    y_pred_in_tags,\n",
    "    labels = [class_indices[cls] for cls in tagset],\n",
    "    target_names = tagset\n",
    ")"
   ]
  },
  {
   "cell_type": "markdown",
   "metadata": {},
   "source": [
    "### C. Retagging on All Label Types (Thresold = .5, retag all)"
   ]
  },
  {
   "cell_type": "code",
   "execution_count": 299,
   "metadata": {
    "collapsed": true
   },
   "outputs": [],
   "source": [
    "y_true = Y_test\n",
    "y_pred = [tagger.tag(sent) for sent in X_test_featurized]"
   ]
  },
  {
   "cell_type": "code",
   "execution_count": 300,
   "metadata": {
    "collapsed": true
   },
   "outputs": [],
   "source": [
    "for i,(X,Y) in enumerate(zip(X_test,y_pred)):\n",
    "    y_pred[i] = retag_check(X,Y,.50)"
   ]
  },
  {
   "cell_type": "code",
   "execution_count": 301,
   "metadata": {
    "collapsed": true
   },
   "outputs": [],
   "source": [
    "y_true_merged = list(chain.from_iterable(y_true))\n",
    "y_pred_merged = list(chain.from_iterable(y_pred))"
   ]
  },
  {
   "cell_type": "code",
   "execution_count": 302,
   "metadata": {
    "collapsed": false
   },
   "outputs": [
    {
     "name": "stdout",
     "output_type": "stream",
     "text": [
      "Accuracy: 0.960970\n"
     ]
    }
   ],
   "source": [
    "from sklearn.metrics import accuracy_score\n",
    "print \"Accuracy: %.6f\" % accuracy_score(y_true_merged,y_pred_merged)"
   ]
  },
  {
   "cell_type": "code",
   "execution_count": 274,
   "metadata": {
    "collapsed": false
   },
   "outputs": [
    {
     "name": "stdout",
     "output_type": "stream",
     "text": [
      "                              precision    recall  f1-score   support\n",
      "\n",
      "B-depart_date.today_relative       0.89      0.89      0.89         9\n",
      " B-arrive_date.date_relative       1.00      0.50      0.67         2\n",
      " B-depart_date.date_relative       0.85      1.00      0.92        17\n",
      "          I-restriction_code       1.00      1.00      1.00         3\n",
      "      B-depart_date.day_name       0.95      0.99      0.97       212\n",
      "      I-arrive_time.end_time       0.50      0.75      0.60         8\n",
      "      B-fromloc.airport_code       1.00      0.60      0.75         5\n",
      "             B-cost_relative       1.00      0.97      0.99        37\n",
      "                   B-connect       1.00      1.00      1.00         6\n",
      "             B-flight_number       0.92      1.00      0.96        11\n",
      " B-depart_time.time_relative       0.92      0.92      0.92        65\n",
      "           I-toloc.city_name       0.92      0.97      0.95       265\n",
      " B-arrive_time.period_of_day       0.00      0.00      0.00         6\n",
      " B-depart_time.period_of_day       0.94      0.92      0.93       130\n",
      " I-return_date.date_relative       1.00      0.33      0.50         3\n",
      "    I-depart_time.start_time       0.50      1.00      0.67         1\n",
      "               B-fare_amount       1.00      1.00      1.00         2\n",
      " I-depart_time.time_relative       0.00      0.00      0.00         1\n",
      "                 B-city_name       0.84      0.46      0.59        57\n",
      "    B-depart_date.day_number       0.90      1.00      0.95        55\n",
      "              I-airport_name       0.83      0.34      0.49        29\n",
      "          B-toloc.state_code       1.00      1.00      1.00        18\n",
      "    B-arrive_date.month_name       0.00      0.00      0.00         6\n",
      "      B-stoploc.airport_code       0.00      0.00      0.00         1\n",
      "              B-airport_code       0.57      0.44      0.50         9\n",
      "    B-arrive_time.start_time       0.75      0.75      0.75         8\n",
      "             B-period_of_day       0.00      0.00      0.00         4\n",
      "          B-arrive_time.time       0.84      0.76      0.80        34\n",
      "          B-toloc.state_name       0.92      0.39      0.55        28\n",
      "             B-booking_class       0.00      0.00      0.00         1\n",
      "      B-arrive_time.end_time       0.55      0.75      0.63         8\n",
      "                      B-meal       0.94      1.00      0.97        16\n",
      " B-arrive_time.time_relative       0.92      0.77      0.84        31\n",
      "                 I-city_name       0.50      0.27      0.35        30\n",
      "                  B-day_name       0.00      0.00      0.00         2\n",
      "                        B-or       0.60      1.00      0.75         3\n",
      "          I-arrive_time.time       0.84      0.77      0.81        35\n",
      "                   B-economy       1.00      1.00      1.00         6\n",
      "      B-fromloc.airport_name       0.50      0.92      0.65        12\n",
      "      B-return_date.day_name       0.00      0.00      0.00         2\n",
      "                           O       0.98      1.00      0.99      5535\n",
      "                B-class_type       0.96      1.00      0.98        24\n",
      "                 B-meal_code       0.00      0.00      0.00         1\n",
      "          B-depart_time.time       0.76      0.91      0.83        57\n",
      "    I-depart_date.day_number       1.00      1.00      1.00        15\n",
      "          B-restriction_code       1.00      0.75      0.86         4\n",
      "           B-fare_basis_code       0.88      0.82      0.85        17\n",
      "         I-stoploc.city_name       1.00      0.70      0.82        10\n",
      "                    B-flight       0.00      0.00      0.00         1\n",
      "      I-fromloc.airport_name       0.45      1.00      0.62        15\n",
      "               B-compartment       0.00      0.00      0.00         1\n",
      "              B-airline_code       0.97      0.85      0.91        34\n",
      "        B-fromloc.state_name       0.80      0.47      0.59        17\n",
      "               B-flight_stop       1.00      1.00      1.00        21\n",
      "                B-flight_mod       1.00      0.96      0.98        24\n",
      "    B-depart_time.start_time       0.50      0.33      0.40         3\n",
      " I-arrive_time.time_relative       0.00      0.00      0.00         4\n",
      "    B-arrive_date.day_number       0.00      0.00      0.00         6\n",
      "               I-flight_time       1.00      1.00      1.00         1\n",
      "      B-arrive_date.day_name       0.67      0.36      0.47        11\n",
      "        I-fromloc.state_name       0.00      0.00      0.00         1\n",
      "                       B-mod       0.00      0.00      0.00         2\n",
      "    B-depart_date.month_name       0.90      0.98      0.94        56\n",
      "               B-flight_days       1.00      1.00      1.00        10\n",
      "             I-cost_relative       1.00      0.67      0.80         3\n",
      "               B-flight_time       1.00      1.00      1.00         1\n",
      "         B-fromloc.city_name       0.97      0.98      0.98       704\n",
      "            B-transport_type       1.00      0.80      0.89        10\n",
      "        B-toloc.country_name       0.00      0.00      0.00         1\n",
      " B-return_date.date_relative       0.00      0.00      0.00         3\n",
      "                B-round_trip       1.00      0.99      0.99        73\n",
      "            I-transport_type       0.00      0.00      0.00         1\n",
      "         I-fromloc.city_name       0.88      0.99      0.93       177\n",
      "          B-depart_date.year       1.00      1.00      1.00         3\n",
      "                I-flight_mod       0.00      0.00      0.00         6\n",
      "           B-toloc.city_name       0.96      0.98      0.97       716\n",
      "    B-depart_time.period_mod       0.71      1.00      0.83         5\n",
      "    I-arrive_time.start_time       0.00      0.00      0.00         1\n",
      "                B-state_code       1.00      1.00      1.00         1\n",
      "              B-airport_name       0.78      0.33      0.47        21\n",
      "         B-stoploc.city_name       0.94      0.85      0.89        20\n",
      "        I-toloc.airport_name       1.00      1.00      1.00         3\n",
      "          B-meal_description       1.00      0.80      0.89        10\n",
      "                I-class_type       1.00      1.00      1.00        17\n",
      "        B-toloc.airport_code       0.00      0.00      0.00         4\n",
      " I-depart_time.period_of_day       1.00      1.00      1.00         1\n",
      "          I-toloc.state_name       1.00      1.00      1.00         1\n",
      "                 B-days_code       0.00      0.00      0.00         1\n",
      "        B-toloc.airport_name       1.00      1.00      1.00         3\n",
      "          I-depart_time.time       0.87      0.90      0.89        52\n",
      "                I-round_trip       1.00      1.00      1.00        71\n",
      "                I-state_name       0.00      0.00      0.00         1\n",
      "               I-fare_amount       1.00      1.00      1.00         2\n",
      "              B-airline_name       0.99      0.97      0.98       101\n",
      "             I-flight_number       0.00      0.00      0.00         1\n",
      "              I-airline_name       0.93      0.95      0.94        65\n",
      "                B-state_name       0.00      0.00      0.00         9\n",
      "      B-depart_time.end_time       0.50      0.33      0.40         3\n",
      "             B-aircraft_code       1.00      0.58      0.73        33\n",
      "        B-fromloc.state_code       1.00      1.00      1.00        23\n",
      "      I-depart_time.end_time       0.50      0.33      0.40         3\n",
      "\n",
      "                 avg / total       0.95      0.96      0.96      9198\n",
      "\n"
     ]
    }
   ],
   "source": [
    "lb = LabelBinarizer()\n",
    "y_true_in_tags = lb.fit_transform(list(chain.from_iterable(y_true))) # get a list of tags in 1-hot.\n",
    "y_pred_in_tags = lb.transform(list(chain.from_iterable(y_pred)))\n",
    "tagset = list(set(lb.classes_))\n",
    "class_indices = {cls:idx for idx,cls in enumerate(lb.classes_)}\n",
    "print classification_report(\n",
    "    y_true_in_tags,\n",
    "    y_pred_in_tags,\n",
    "    labels = [class_indices[cls] for cls in tagset],\n",
    "    target_names = tagset\n",
    ")"
   ]
  },
  {
   "cell_type": "code",
   "execution_count": null,
   "metadata": {
    "collapsed": true
   },
   "outputs": [],
   "source": []
  }
 ],
 "metadata": {
  "kernelspec": {
   "display_name": "Python 2",
   "language": "python",
   "name": "python2"
  },
  "language_info": {
   "codemirror_mode": {
    "name": "ipython",
    "version": 2
   },
   "file_extension": ".py",
   "mimetype": "text/x-python",
   "name": "python",
   "nbconvert_exporter": "python",
   "pygments_lexer": "ipython2",
   "version": "2.7.11"
  }
 },
 "nbformat": 4,
 "nbformat_minor": 0
}
