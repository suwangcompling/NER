{
 "cells": [
  {
   "cell_type": "code",
   "execution_count": 20,
   "metadata": {
    "collapsed": true
   },
   "outputs": [],
   "source": [
    "import numpy as np"
   ]
  },
  {
   "cell_type": "code",
   "execution_count": 54,
   "metadata": {
    "collapsed": false
   },
   "outputs": [],
   "source": [
    "class Babel:\n",
    "    \n",
    "    def __init__(self, dicts, entities):\n",
    "        \"\"\"\n",
    "        # dicts: \n",
    "            keys = {'idx2word', 'word2idx', 'idx2label', 'label2idx'}.\n",
    "        # entities:\n",
    "            a list of dictionaries for each\n",
    "            keys = {'name', 'children'}.\n",
    "          EXAMPLE:\n",
    "            [{u'children': [u'arrive_time.end_time',\n",
    "               u'arrive_time.period_mod',\n",
    "               u'arrive_time.period_of_day',\n",
    "               u'arrive_time.start_time',\n",
    "               u'arrive_time.time_relative'],\n",
    "              u'name': u'arrive_time'},\n",
    "              ...\n",
    "            ]\n",
    "        \"\"\"\n",
    "        self.dicts = dicts\n",
    "        self.entities = entities_normalize(entities)\n",
    "    \n",
    "    def luis2data(self, luis_utterances):\n",
    "        \"\"\"\n",
    "        # luis_utterances: \n",
    "            a dictionary with keys = {'text', 'intent', 'entities'}.\n",
    "            EXAMPLE:\n",
    "           {u'entities': [{u'endPos': 5,\n",
    "                           u'entity': u'from_loc::airline_name',\n",
    "                           u'startPos': 5},\n",
    "                          {u'endPos': 7, \n",
    "                           u'entity': u'flight::flight_number', \n",
    "                           u'startPos': 7},\n",
    "                          {u'endPos': 10, \n",
    "                           u'entity': u'from_loc::fromloc.city_name', \n",
    "                           u'startPos': 9},\n",
    "                          {u'endPos': 14,\n",
    "                           u'entity': u'stop_to_loc::toloc.city_name',\n",
    "                           u'startPos': 12}],\n",
    "           u'intent': u'None',\n",
    "           u'text': u'what aircraft is used on delta flight DIGITDIGITDIGITDIGIT from kansas city to salt lake city'}\n",
    "        \"\"\"\n",
    "        sents, labels = [],[]\n",
    "        for utterance in luis_utterances:\n",
    "            sents.append(np.asarray(map(self.dicts['word2idx'].get,\n",
    "                                        utterance['text'].split()),dtype='int32'))\n",
    "            label = ['O' for _ in utterance['text'].split()]\n",
    "            for entity in utterance['entities']:\n",
    "                label[entity['startPos']]='B-'+entity['entity'].split('::')[1]\n",
    "                if entity['startPos']!=entity['endPos']: \n",
    "                    for i in range(entity['startPos']+1,entity['endPos']+1):\n",
    "                        label[i] = 'I-'+entity['entity'].split('::')[1]\n",
    "            labels.append(map(self.dicts['label2idx'].get,label))        \n",
    "        return (sents,labels)        \n",
    "    \n",
    "    def data2luis(self, data):\n",
    "        \"\"\"\n",
    "        # data: \n",
    "            a 2-tuple (encoded_sents, encoded_labels).\n",
    "            EXAMPLE:\n",
    "            (\n",
    "             [array([554,  23, 241, 534, 358, 136, 193,  11, 208, 251, 104, 502, 413,\n",
    "                     256, 104], dtype=int32), ... ]\n",
    "             [array([232, 542, 502, 213, 208,  77, 502,  64, 358, 317], dtype=int32), ...]\n",
    "            )\n",
    "        \"\"\"\n",
    "        utterances = []\n",
    "        for sent_idx in xrange(len(data[0])):\n",
    "            sent = map(self.dicts['idx2word'].get,data[0][sent_idx])\n",
    "            labels = map(self.dicts['idx2label'].get,data[1][sent_idx])\n",
    "            utterance = {u'text':unicode(' '.join(sent)),\n",
    "                         u'intent':'None', u'entities':[]}\n",
    "            entity = {u'entity':'',u'startPos':0,u'endPos':0}\n",
    "            for i,label in enumerate(labels):\n",
    "                current_entity = ''\n",
    "                if label=='O': continue\n",
    "                elif label.startswith('B'):\n",
    "                    entity['startPos'] = i\n",
    "                    current_entity = label.split('-')[1]\n",
    "                    entity['entity'] = self.entities[current_entity] + '::' + current_entity\n",
    "                else: pass\n",
    "                if i+1>=len(labels) or labels[i+1]=='O':\n",
    "                    entity['endPos'] = i\n",
    "                    utterance['entities'].append(entity)\n",
    "                    entity = {u'entity':'',u'startPos':0,u'endPos':0}\n",
    "                    current_entity = ''\n",
    "            utterances.append(utterance)\n",
    "        return utterances"
   ]
  },
  {
   "cell_type": "code",
   "execution_count": 45,
   "metadata": {
    "collapsed": true
   },
   "outputs": [],
   "source": [
    "def entities_normalize(entities):\n",
    "    \"\"\"\n",
    "    # entities:\n",
    "        a list of dictionaries for each\n",
    "        keys = {'name', 'children'}.    \n",
    "      TRANSFORMED EXAMPLE:\n",
    "        {u'aircraft_code': u'codes_types',\n",
    "         u'airline_code': u'codes_types',\n",
    "         u'airline_name': u'from_loc',\n",
    "         u'airport_code': u'codes_types',\n",
    "         u'airport_name': u'from_loc',\n",
    "         u'arrive_date.date_relative': u'arrive_date',\n",
    "         u'arrive_date.day_name': u'arrive_date',\n",
    "         u'arrive_date.day_number': u'arrive_date',\n",
    "         ...\n",
    "    \"\"\"\n",
    "    new_dict = {}\n",
    "    for entry in entities:\n",
    "        for child in entry['children']:\n",
    "            new_dict[child] = entry['name']\n",
    "    return new_dict\n"
   ]
  },
  {
   "cell_type": "code",
   "execution_count": 36,
   "metadata": {
    "collapsed": true
   },
   "outputs": [],
   "source": [
    "import json, gzip, pickle, os\n",
    "os.chdir('/Users/jacobsw/Desktop')\n",
    "# IMPORT LUIS\n",
    "with open('new_ojoatis.json') as json_file:\n",
    "    ojoatis = json.load(json_file)\n",
    "entities = ojoatis['entities']\n",
    "luis_utterances = ojoatis['utterances']\n",
    "# IMPORT DATA (ATIS)\n",
    "f = gzip.open('/Users/jacobsw/Downloads/atis.fold1.pkl.gz', 'rb')\n",
    "train_set, valid_set, test_set, atis_dicts = pickle.load(f)\n",
    "train_set, valid_set, test_set = (train_set[0],train_set[2]), (valid_set[0],valid_set[2]), (test_set[0],test_set[2])\n",
    "f.close()\n",
    "dicts = {}\n",
    "dicts['idx2word'] = {i:w for w,i in atis_dicts['words2idx'].iteritems()}\n",
    "dicts['word2idx'] = atis_dicts['words2idx']\n",
    "dicts['idx2label'] = {i:l for l,i in atis_dicts['labels2idx'].iteritems()}\n",
    "dicts['label2idx'] = atis_dicts['labels2idx']"
   ]
  },
  {
   "cell_type": "code",
   "execution_count": 55,
   "metadata": {
    "collapsed": false
   },
   "outputs": [],
   "source": [
    "bbl = Babel(dicts, entities)"
   ]
  },
  {
   "cell_type": "code",
   "execution_count": 42,
   "metadata": {
    "collapsed": false
   },
   "outputs": [
    {
     "name": "stdout",
     "output_type": "stream",
     "text": [
      "ATIS sentence:  ['what', 'aircraft', 'is', 'used', 'on', 'delta', 'flight', 'DIGITDIGITDIGITDIGIT', 'from', 'kansas', 'city', 'to', 'salt', 'lake', 'city']\n",
      "ATIS sentence encoded:  [554  23 241 534 358 136 193  11 208 251 104 502 413 256 104]\n",
      "ATIS labels:  ['O', 'O', 'O', 'O', 'O', 'B-airline_name', 'O', 'B-flight_number', 'O', 'B-fromloc.city_name', 'I-fromloc.city_name', 'O', 'B-toloc.city_name', 'I-toloc.city_name', 'I-toloc.city_name']\n",
      "ATIS labels encoded:  [126, 126, 126, 126, 126, 2, 126, 43, 126, 48, 109, 126, 78, 123, 123]\n"
     ]
    }
   ],
   "source": [
    "atis_data = bbl.luis2data(luis_utterances)\n",
    "print \"ATIS sentence: \", map(bbl.dicts['idx2word'].get, atis_data[0][0])\n",
    "print \"ATIS sentence encoded: \", atis_data[0][0]\n",
    "print \"ATIS labels: \", map(bbl.dicts['idx2label'].get, atis_data[1][0])\n",
    "print \"ATIS labels encoded: \", atis_data[1][0]"
   ]
  },
  {
   "cell_type": "code",
   "execution_count": 59,
   "metadata": {
    "collapsed": false
   },
   "outputs": [
    {
     "name": "stdout",
     "output_type": "stream",
     "text": [
      "LUIS utterances: \n"
     ]
    },
    {
     "data": {
      "text/plain": [
       "{u'entities': [{u'endPos': 5,\n",
       "   u'entity': u'from_loc::airline_name',\n",
       "   u'startPos': 5},\n",
       "  {u'endPos': 7, u'entity': u'flight::flight_number', u'startPos': 7},\n",
       "  {u'endPos': 10, u'entity': u'from_loc::fromloc.city_name', u'startPos': 9},\n",
       "  {u'endPos': 14,\n",
       "   u'entity': u'stop_to_loc::toloc.city_name',\n",
       "   u'startPos': 12}],\n",
       " u'intent': 'None',\n",
       " u'text': u'what aircraft is used on delta flight DIGITDIGITDIGITDIGIT from kansas city to salt lake city'}"
      ]
     },
     "execution_count": 59,
     "metadata": {},
     "output_type": "execute_result"
    }
   ],
   "source": [
    "luis_utterances = bbl.data2luis(atis_data)\n",
    "print \"LUIS utterances: \"\n",
    "luis_utterances[0]"
   ]
  },
  {
   "cell_type": "code",
   "execution_count": null,
   "metadata": {
    "collapsed": false
   },
   "outputs": [],
   "source": []
  },
  {
   "cell_type": "code",
   "execution_count": null,
   "metadata": {
    "collapsed": false
   },
   "outputs": [],
   "source": []
  },
  {
   "cell_type": "code",
   "execution_count": null,
   "metadata": {
    "collapsed": true
   },
   "outputs": [],
   "source": []
  },
  {
   "cell_type": "code",
   "execution_count": null,
   "metadata": {
    "collapsed": true
   },
   "outputs": [],
   "source": []
  },
  {
   "cell_type": "code",
   "execution_count": null,
   "metadata": {
    "collapsed": true
   },
   "outputs": [],
   "source": []
  }
 ],
 "metadata": {
  "kernelspec": {
   "display_name": "Python 2",
   "language": "python",
   "name": "python2"
  },
  "language_info": {
   "codemirror_mode": {
    "name": "ipython",
    "version": 2
   },
   "file_extension": ".py",
   "mimetype": "text/x-python",
   "name": "python",
   "nbconvert_exporter": "python",
   "pygments_lexer": "ipython2",
   "version": "2.7.11"
  }
 },
 "nbformat": 4,
 "nbformat_minor": 0
}
