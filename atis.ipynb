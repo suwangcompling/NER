{
 "cells": [
  {
   "cell_type": "markdown",
   "metadata": {},
   "source": [
    "# ATIS in LUIS\n",
    "\n",
    "* **Task I:** ATIS raw data => LUIS-json app format (importable to LUIS).\n",
    "* **Task II:** \n",
    "    * a. Validation: using luis.Luis(..).analyze to predict on valid/test set (i.e. y_hat), then compare that with the actual labeled data in atis pickle (i.e. y_true).\n",
    "    * b. Evaluation: Jaccard and F1-score."
   ]
  },
  {
   "cell_type": "markdown",
   "metadata": {},
   "source": [
    "### A. Labeled Data $\\Rightarrow$ LUIS JSON"
   ]
  },
  {
   "cell_type": "code",
   "execution_count": 139,
   "metadata": {
    "collapsed": true
   },
   "outputs": [],
   "source": [
    "import json, gzip, pickle"
   ]
  },
  {
   "cell_type": "code",
   "execution_count": 140,
   "metadata": {
    "collapsed": true
   },
   "outputs": [],
   "source": [
    "import os\n",
    "os.chdir('/Users/jacobsw/Desktop')"
   ]
  },
  {
   "cell_type": "code",
   "execution_count": 141,
   "metadata": {
    "collapsed": false
   },
   "outputs": [
    {
     "name": "stdout",
     "output_type": "stream",
     "text": [
      "DONE\n"
     ]
    }
   ],
   "source": [
    "with open('ojoatis.json') as json_file:\n",
    "    ojoatis = json.load(json_file)\n",
    "ojoatis['entities'][0]['children'].append(u'arrive_time.time')\n",
    "ojoatis['entities'][2]['children'][5] = u'return_time.period_mod'\n",
    "ojoatis['entities'][2]['children'][6] = u'return_time.period_of_day'\n",
    "joshentities = ojoatis['entities']\n",
    "''' FORMAT:\n",
    "[{u'children': [u'arrive_time.end_time',\n",
    "   u'arrive_time.period_mod',\n",
    "   u'arrive_time.period_of_day',\n",
    "   u'arrive_time.start_time',\n",
    "   u'arrive_time.time_relative'],\n",
    "  u'name': u'arrive_time'},\n",
    " {u'children': [u'depart_time.end_time',\n",
    "   u'depart_time.period_mod',\n",
    "   u'depart_time.period_of_day',\n",
    "   u'depart_time.start_time',\n",
    "   u'depart_time.time',\n",
    "   u'depart_time.time_relative',\n",
    "   u'meal',\n",
    "   u'meal_description'],\n",
    "  u'name': u'depart_time_meal'},\n",
    "  ...\n",
    "'''\n",
    "print 'DONE'"
   ]
  },
  {
   "cell_type": "code",
   "execution_count": 142,
   "metadata": {
    "collapsed": false
   },
   "outputs": [
    {
     "name": "stdout",
     "output_type": "stream",
     "text": [
      "DONE\n"
     ]
    }
   ],
   "source": [
    "def entities_dict_transform(entities):\n",
    "    new_dict = {}\n",
    "    for entry in entities:\n",
    "        for child in entry['children']:\n",
    "            new_dict[child] = entry['name']\n",
    "    return new_dict\n",
    "''' TRANSFORMED:\n",
    "{u'aircraft_code': u'codes_types',\n",
    " u'airline_code': u'codes_types',\n",
    " u'airline_name': u'from_loc',\n",
    " u'airport_code': u'codes_types',\n",
    " u'airport_name': u'from_loc',\n",
    " u'arrive_date.date_relative': u'arrive_date',\n",
    " u'arrive_date.day_name': u'arrive_date',\n",
    " u'arrive_date.day_number': u'arrive_date',\n",
    " ...\n",
    "'''\n",
    "print 'DONE'"
   ]
  },
  {
   "cell_type": "code",
   "execution_count": 143,
   "metadata": {
    "collapsed": true
   },
   "outputs": [],
   "source": [
    "joshentities = entities_dict_transform(joshentities)"
   ]
  },
  {
   "cell_type": "code",
   "execution_count": 145,
   "metadata": {
    "collapsed": false
   },
   "outputs": [],
   "source": [
    "class ATIS:\n",
    "    # takes an atis pickle, and extract utterances in luis-json format.\n",
    "    \n",
    "    def __init__(self, filename='/Users/jacobsw/Downloads/atis.fold1.pkl.gz',\n",
    "                       entities=joshentities):\n",
    "        self.filename = filename\n",
    "        self.entities = entities\n",
    "        self.__load()\n",
    "    \n",
    "    def __load(self):\n",
    "        f = gzip.open(self.filename, 'rb')\n",
    "        self.train_set, self.valid_set, self.test_set, self.dicts = pickle.load(f)\n",
    "        f.close()\n",
    "        self.idx2labels = {idx:label for (label,idx) in self.dicts['labels2idx'].iteritems()}\n",
    "        self.idx2words = {idx:word for (word,idx) in self.dicts['words2idx'].iteritems()}\n",
    "    \n",
    "    def get_annotated_sent(self, sent_idx, source='train'):\n",
    "        assert source in ['train','valid','test']\n",
    "        if source=='train': src = self.train_set\n",
    "        elif source=='valid': src = self.valid_set\n",
    "        else: src = self.test_set\n",
    "        annotated = zip(map(self.idx2words.get,src[0][sent_idx]),\n",
    "                        map(self.idx2labels.get,src[2][sent_idx]))\n",
    "        return annotated\n",
    "    \n",
    "    def get_utterance_json(self, sent_idx, source='train'):\n",
    "        annotated = self.get_annotated_sent(sent_idx, source)\n",
    "        utterance = {u'text':unicode(' '.join([word for word,label in annotated])),\n",
    "                 u'intent':'None',\n",
    "                 u'entities':[]}\n",
    "        entity = {u'entity':'',u'startPos':0,u'endPos':0}\n",
    "        for i,item in enumerate(annotated):\n",
    "            current_entity = ''\n",
    "            if item[1].startswith('B'):\n",
    "                entity['startPos'] = i\n",
    "                current_entity = item[1].split('-')[1]\n",
    "                entity['entity'] = self.entities[current_entity] + '::' + current_entity\n",
    "                if i+1>=len(annotated) or annotated[i+1][1]=='O':\n",
    "                    entity['endPos'] = i\n",
    "                    utterance['entities'].append(entity)\n",
    "                    entity = {u'entity':'',u'startPos':0,u'endPos':0}\n",
    "                    current_entity = ''\n",
    "                    continue\n",
    "            elif item[1].startswith('I'):\n",
    "                if i+1>=len(annotated) or annotated[i+1][1]=='O':\n",
    "                    entity['endPos'] = i\n",
    "                    utterance['entities'].append(entity)\n",
    "                    entity = {u'entity':'',u'startPos':0,u'endPos':0}\n",
    "                    current_entity = ''\n",
    "                else: continue\n",
    "            else: continue\n",
    "        return utterance \n",
    "    \n",
    "    def populate_utterances(self, luis_json, num_utterances=2000):\n",
    "        # assuming luis_json is an exported app which doesn't have many labeled sents.\n",
    "        for i in xrange(num_utterances):\n",
    "            luis_json['utterances'].append(self.get_utterance_json(i))\n",
    "        return luis_json\n",
    "        "
   ]
  },
  {
   "cell_type": "code",
   "execution_count": 146,
   "metadata": {
    "collapsed": true
   },
   "outputs": [],
   "source": [
    "atis = ATIS()"
   ]
  },
  {
   "cell_type": "code",
   "execution_count": 147,
   "metadata": {
    "collapsed": false
   },
   "outputs": [
    {
     "data": {
      "text/plain": [
       "{u'entities': [{u'endPos': 5,\n",
       "   u'entity': u'from_loc::airline_name',\n",
       "   u'startPos': 5},\n",
       "  {u'endPos': 7, u'entity': u'flight::flight_number', u'startPos': 7},\n",
       "  {u'endPos': 10, u'entity': u'from_loc::fromloc.city_name', u'startPos': 9},\n",
       "  {u'endPos': 14,\n",
       "   u'entity': u'stop_to_loc::toloc.city_name',\n",
       "   u'startPos': 12}],\n",
       " u'intent': 'None',\n",
       " u'text': u'what aircraft is used on delta flight DIGITDIGITDIGITDIGIT from kansas city to salt lake city'}"
      ]
     },
     "execution_count": 147,
     "metadata": {},
     "output_type": "execute_result"
    }
   ],
   "source": [
    "atis.get_utterance_json(0)"
   ]
  },
  {
   "cell_type": "code",
   "execution_count": 148,
   "metadata": {
    "collapsed": false
   },
   "outputs": [],
   "source": [
    "new_ojoatis = atis.populate_utterances(ojoatis)\n",
    "''' FORMAT:\n",
    "{u'actions': [],\n",
    " u'bing_entities': [],\n",
    " u'composites': [],\n",
    " u'culture': u'en-us',\n",
    " u'desc': u'ner',\n",
    " u'entities': [{u'children': [u'arrive_time.end_time',\n",
    "    u'arrive_time.period_mod',\n",
    "    u'arrive_time.period_of_day',\n",
    "    u'arrive_time.start_time',\n",
    "    u'arrive_time.time_relative',\n",
    "    u'arrive_time.time'],\n",
    "   u'name': u'arrive_time'},\n",
    "'''"
   ]
  },
  {
   "cell_type": "code",
   "execution_count": 150,
   "metadata": {
    "collapsed": true
   },
   "outputs": [],
   "source": [
    "with open('new_ojoatis.json', 'w') as f:\n",
    "     json.dump(new_ojoatis, f)"
   ]
  },
  {
   "cell_type": "code",
   "execution_count": 308,
   "metadata": {
    "collapsed": false
   },
   "outputs": [
    {
     "data": {
      "text/plain": [
       "[('what', 'O'),\n",
       " ('flights', 'O'),\n",
       " ('leave', 'O'),\n",
       " ('atlanta', 'B-fromloc.city_name'),\n",
       " ('at', 'O'),\n",
       " ('about', 'B-depart_time.time_relative'),\n",
       " ('DIGIT', 'B-depart_time.time'),\n",
       " ('in', 'O'),\n",
       " ('the', 'O'),\n",
       " ('afternoon', 'B-depart_time.period_of_day'),\n",
       " ('and', 'O'),\n",
       " ('arrive', 'O'),\n",
       " ('in', 'O'),\n",
       " ('san', 'B-toloc.city_name'),\n",
       " ('francisco', 'I-toloc.city_name')]"
      ]
     },
     "execution_count": 308,
     "metadata": {},
     "output_type": "execute_result"
    }
   ],
   "source": [
    "# EXAMPLE: LABELED DATA\n",
    "zip(map(atis.idx2words.get,atis.valid_set[0][0]),\n",
    "    map(atis.idx2labels.get,atis.valid_set[2][0]))"
   ]
  },
  {
   "cell_type": "code",
   "execution_count": null,
   "metadata": {
    "collapsed": true
   },
   "outputs": [],
   "source": []
  },
  {
   "cell_type": "markdown",
   "metadata": {},
   "source": [
    "### B. Facilities for Importing New Trained Data"
   ]
  },
  {
   "cell_type": "code",
   "execution_count": 309,
   "metadata": {
    "collapsed": true
   },
   "outputs": [],
   "source": [
    "import luis"
   ]
  },
  {
   "cell_type": "code",
   "execution_count": 167,
   "metadata": {
    "collapsed": true
   },
   "outputs": [],
   "source": [
    "l = luis.Luis(url=\"https://api.projectoxford.ai/luis/v1/application?id=e13e2ede-be9b-46cf-a568-7a3d92c4fcba&subscription-key=952396816ccf4d869657b9ef49533fb6\")"
   ]
  },
  {
   "cell_type": "markdown",
   "metadata": {},
   "source": [
    "#### TEST: valid sentence 0"
   ]
  },
  {
   "cell_type": "code",
   "execution_count": 154,
   "metadata": {
    "collapsed": false
   },
   "outputs": [
    {
     "data": {
      "text/plain": [
       "{u'entities': [{u'endPos': 3,\n",
       "   u'entity': u'from_loc::fromloc.city_name',\n",
       "   u'startPos': 3},\n",
       "  {u'endPos': 6,\n",
       "   u'entity': u'depart_time_meal::depart_time.time',\n",
       "   u'startPos': 6},\n",
       "  {u'endPos': 9,\n",
       "   u'entity': u'depart_time_meal::depart_time.period_of_day',\n",
       "   u'startPos': 9},\n",
       "  {u'endPos': 14,\n",
       "   u'entity': u'stop_to_loc::toloc.city_name',\n",
       "   u'startPos': 13}],\n",
       " u'intent': 'None',\n",
       " u'text': u'what flights leave atlanta at about DIGIT in the afternoon and arrive in san francisco'}"
      ]
     },
     "execution_count": 154,
     "metadata": {},
     "output_type": "execute_result"
    }
   ],
   "source": [
    "val0_true = atis.get_utterance_json(0,source='valid')\n",
    "val0_true"
   ]
  },
  {
   "cell_type": "code",
   "execution_count": 173,
   "metadata": {
    "collapsed": false
   },
   "outputs": [],
   "source": [
    "val0_luispy = l.analyze(val0_raw).entities"
   ]
  },
  {
   "cell_type": "code",
   "execution_count": 174,
   "metadata": {
    "collapsed": false
   },
   "outputs": [
    {
     "data": {
      "text/plain": [
       "[<Entity entity=u'atlanta' type=u'from_loc::fromloc.city_name' score=0.9590335 start_index=19 end_index=25>,\n",
       " <Entity entity=u'afternoon' type=u'depart_time_meal::depart_time.period_of_day' score=0.856796861 start_index=49 end_index=57>,\n",
       " <Entity entity=u'san francisco' type=u'stop_to_loc::toloc.city_name' score=0.871793866 start_index=73 end_index=85>]"
      ]
     },
     "execution_count": 174,
     "metadata": {},
     "output_type": "execute_result"
    }
   ],
   "source": [
    "val0_luispy"
   ]
  },
  {
   "cell_type": "code",
   "execution_count": 231,
   "metadata": {
    "collapsed": false
   },
   "outputs": [
    {
     "data": {
      "text/plain": [
       "{u'entities': [{u'endPos': 3,\n",
       "   u'entity': u'from_loc::fromloc.city_name',\n",
       "   u'startPos': 3},\n",
       "  {u'endPos': 6,\n",
       "   u'entity': u'depart_time_meal::depart_time.time',\n",
       "   u'startPos': 6},\n",
       "  {u'endPos': 9,\n",
       "   u'entity': u'depart_time_meal::depart_time.period_of_day',\n",
       "   u'startPos': 9},\n",
       "  {u'endPos': 14,\n",
       "   u'entity': u'stop_to_loc::toloc.city_name',\n",
       "   u'startPos': 13}],\n",
       " u'intent': 'None',\n",
       " u'text': u'what flights leave atlanta at about DIGIT in the afternoon and arrive in san francisco'}"
      ]
     },
     "execution_count": 231,
     "metadata": {},
     "output_type": "execute_result"
    }
   ],
   "source": [
    "val0_true"
   ]
  },
  {
   "cell_type": "markdown",
   "metadata": {},
   "source": [
    "##### ================================ ATIS => [ (ent_txt: '..', ent_lb: '..'), (..), ..] ================================"
   ]
  },
  {
   "cell_type": "code",
   "execution_count": 262,
   "metadata": {
    "collapsed": false
   },
   "outputs": [
    {
     "data": {
      "text/plain": [
       "{u'entities': [{u'endPos': 3,\n",
       "   u'entity': u'from_loc::fromloc.city_name',\n",
       "   u'startPos': 3},\n",
       "  {u'endPos': 6,\n",
       "   u'entity': u'depart_time_meal::depart_time.time',\n",
       "   u'startPos': 6},\n",
       "  {u'endPos': 9,\n",
       "   u'entity': u'depart_time_meal::depart_time.period_of_day',\n",
       "   u'startPos': 9},\n",
       "  {u'endPos': 14,\n",
       "   u'entity': u'stop_to_loc::toloc.city_name',\n",
       "   u'startPos': 13}],\n",
       " u'intent': 'None',\n",
       " u'text': u'what flights leave atlanta at about DIGIT in the afternoon and arrive in san francisco'}"
      ]
     },
     "execution_count": 262,
     "metadata": {},
     "output_type": "execute_result"
    }
   ],
   "source": [
    "val0_true = atis.get_utterance_json(0,source='valid')\n",
    "val0_true"
   ]
  },
  {
   "cell_type": "code",
   "execution_count": 246,
   "metadata": {
    "collapsed": false
   },
   "outputs": [],
   "source": [
    "def utterance_json_to_entities_list(utterance):\n",
    "    text = utterance['text'].split()\n",
    "    pairs = []\n",
    "    for entity in utterance['entities']:\n",
    "        pairs.append((' '.join(text[entity['startPos']:entity['endPos']+1]),\n",
    "                      entity['entity']))\n",
    "    return pairs"
   ]
  },
  {
   "cell_type": "code",
   "execution_count": 247,
   "metadata": {
    "collapsed": false
   },
   "outputs": [
    {
     "data": {
      "text/plain": [
       "[(u'atlanta', u'from_loc::fromloc.city_name'),\n",
       " (u'DIGIT', u'depart_time_meal::depart_time.time'),\n",
       " (u'afternoon', u'depart_time_meal::depart_time.period_of_day'),\n",
       " (u'san francisco', u'stop_to_loc::toloc.city_name')]"
      ]
     },
     "execution_count": 247,
     "metadata": {},
     "output_type": "execute_result"
    }
   ],
   "source": [
    "utterance_json_to_entities_list(val0_true)"
   ]
  },
  {
   "cell_type": "markdown",
   "metadata": {},
   "source": [
    "##### ================================================================================================"
   ]
  },
  {
   "cell_type": "markdown",
   "metadata": {},
   "source": [
    "##### ================================ LUISPY => [ (ent_txt: '..', ent_lb: '..'), (..), ..] ================================"
   ]
  },
  {
   "cell_type": "code",
   "execution_count": 263,
   "metadata": {
    "collapsed": false
   },
   "outputs": [
    {
     "data": {
      "text/plain": [
       "[<Entity entity=u'atlanta' type=u'from_loc::fromloc.city_name' score=0.9590335 start_index=19 end_index=25>,\n",
       " <Entity entity=u'afternoon' type=u'depart_time_meal::depart_time.period_of_day' score=0.856796861 start_index=49 end_index=57>,\n",
       " <Entity entity=u'san francisco' type=u'stop_to_loc::toloc.city_name' score=0.871793866 start_index=73 end_index=85>]"
      ]
     },
     "execution_count": 263,
     "metadata": {},
     "output_type": "execute_result"
    }
   ],
   "source": [
    "val0_luispy = l.analyze(val0_raw).entities\n",
    "val0_luispy"
   ]
  },
  {
   "cell_type": "code",
   "execution_count": 228,
   "metadata": {
    "collapsed": false
   },
   "outputs": [],
   "source": [
    "def luispy_to_entities_list(luispy_entities):\n",
    "    pairs = []\n",
    "    for entity in luispy_entities:\n",
    "        entity_info = str(entity).split(\"=\") \n",
    "            # ['<Entity entity',\n",
    "            #  \"u'san francisco' type\",\n",
    "            #  \"u'stop_to_loc::toloc.city_name' score\",\n",
    "            #  '0.871793866 start_index',\n",
    "            #  '73 end_index',\n",
    "            #  '85>']\n",
    "        pairs.append((entity_info[1].split('\\'')[1],\n",
    "                      entity_info[2].split()[0][2:-1]))\n",
    "            # tuple: (ent_text: ..., ent_label: ...)\n",
    "            # entity_info[1].split('\\''): ['u', 'san francisco', ' type']\n",
    "            # entity_info[2].split()[0][2:-1]: 'stop_to_loc::toloc.city_name'\n",
    "    return pairs"
   ]
  },
  {
   "cell_type": "code",
   "execution_count": 230,
   "metadata": {
    "collapsed": false
   },
   "outputs": [
    {
     "data": {
      "text/plain": [
       "[('atlanta', 'from_loc::fromloc.city_name'),\n",
       " ('afternoon', 'depart_time_meal::depart_time.period_of_day'),\n",
       " ('san francisco', 'stop_to_loc::toloc.city_name')]"
      ]
     },
     "execution_count": 230,
     "metadata": {},
     "output_type": "execute_result"
    }
   ],
   "source": [
    "luispy_to_entities_list(val0_luispy)"
   ]
  },
  {
   "cell_type": "markdown",
   "metadata": {
    "collapsed": false
   },
   "source": [
    "##### ================================================================================================"
   ]
  },
  {
   "cell_type": "markdown",
   "metadata": {},
   "source": [
    "##### SIMILARITY between true and hat: JACCARD"
   ]
  },
  {
   "cell_type": "code",
   "execution_count": null,
   "metadata": {
    "collapsed": false
   },
   "outputs": [],
   "source": [
    "# TRUE:\n",
    "'''\n",
    "[(u'atlanta', u'from_loc::fromloc.city_name'),\n",
    " (u'DIGIT', u'depart_time_meal::depart_time.time'),\n",
    " (u'afternoon', u'depart_time_meal::depart_time.period_of_day'),\n",
    " (u'san francisco', u'stop_to_loc::toloc.city_name')]\n",
    "'''\n",
    "# HAT:\n",
    "'''\n",
    "[('atlanta', 'from_loc::fromloc.city_name'),\n",
    " ('afternoon', 'depart_time_meal::depart_time.period_of_day'),\n",
    " ('san francisco', 'stop_to_loc::toloc.city_name')]\n",
    "'''"
   ]
  },
  {
   "cell_type": "code",
   "execution_count": 249,
   "metadata": {
    "collapsed": false
   },
   "outputs": [
    {
     "data": {
      "text/plain": [
       "True"
      ]
     },
     "execution_count": 249,
     "metadata": {},
     "output_type": "execute_result"
    }
   ],
   "source": [
    "(u'atlanta', u'from_loc::fromloc.city_name') == ('atlanta', 'from_loc::fromloc.city_name')"
   ]
  },
  {
   "cell_type": "code",
   "execution_count": 251,
   "metadata": {
    "collapsed": true
   },
   "outputs": [],
   "source": [
    "true = [(u'atlanta', u'from_loc::fromloc.city_name'),\n",
    " (u'DIGIT', u'depart_time_meal::depart_time.time'),\n",
    " (u'afternoon', u'depart_time_meal::depart_time.period_of_day'),\n",
    " (u'san francisco', u'stop_to_loc::toloc.city_name')]\n",
    "hat = [('atlanta', 'from_loc::fromloc.city_name'),\n",
    " ('afternoon', 'depart_time_meal::depart_time.period_of_day'),\n",
    " ('san francisco', 'stop_to_loc::toloc.city_name')]"
   ]
  },
  {
   "cell_type": "code",
   "execution_count": 260,
   "metadata": {
    "collapsed": true
   },
   "outputs": [],
   "source": [
    "def jaccard(true,hat):\n",
    "    return len(set(true).intersection(set(hat))) / \\\n",
    "               float(len(set(true).union(set(hat))))"
   ]
  },
  {
   "cell_type": "code",
   "execution_count": 261,
   "metadata": {
    "collapsed": false
   },
   "outputs": [
    {
     "data": {
      "text/plain": [
       "0.75"
      ]
     },
     "execution_count": 261,
     "metadata": {},
     "output_type": "execute_result"
    }
   ],
   "source": [
    "jaccard(true,hat)"
   ]
  },
  {
   "cell_type": "code",
   "execution_count": 256,
   "metadata": {
    "collapsed": false
   },
   "outputs": [
    {
     "data": {
      "text/plain": [
       "{('afternoon', 'depart_time_meal::depart_time.period_of_day'),\n",
       " ('atlanta', 'from_loc::fromloc.city_name'),\n",
       " ('san francisco', 'stop_to_loc::toloc.city_name')}"
      ]
     },
     "execution_count": 256,
     "metadata": {},
     "output_type": "execute_result"
    }
   ],
   "source": [
    "set(true).intersection(set(hat))"
   ]
  },
  {
   "cell_type": "code",
   "execution_count": 257,
   "metadata": {
    "collapsed": false
   },
   "outputs": [
    {
     "data": {
      "text/plain": [
       "{(u'DIGIT', u'depart_time_meal::depart_time.time'),\n",
       " (u'afternoon', u'depart_time_meal::depart_time.period_of_day'),\n",
       " (u'atlanta', u'from_loc::fromloc.city_name'),\n",
       " (u'san francisco', u'stop_to_loc::toloc.city_name')}"
      ]
     },
     "execution_count": 257,
     "metadata": {},
     "output_type": "execute_result"
    }
   ],
   "source": [
    "set(true).union(set(hat))"
   ]
  },
  {
   "cell_type": "markdown",
   "metadata": {},
   "source": [
    "### C. 100 Validation"
   ]
  },
  {
   "cell_type": "markdown",
   "metadata": {},
   "source": [
    "#### a. Jaccard"
   ]
  },
  {
   "cell_type": "code",
   "execution_count": 292,
   "metadata": {
    "collapsed": false
   },
   "outputs": [],
   "source": [
    "val100_raw = [atis.get_utterance_json(i,source='valid') for i in xrange(100)] # from atis (train=998)"
   ]
  },
  {
   "cell_type": "code",
   "execution_count": 293,
   "metadata": {
    "collapsed": false
   },
   "outputs": [],
   "source": [
    "val100_true = [utterance_json_to_entities_list(utterance) for utterance in val100_raw]"
   ]
  },
  {
   "cell_type": "code",
   "execution_count": 294,
   "metadata": {
    "collapsed": false
   },
   "outputs": [
    {
     "name": "stdout",
     "output_type": "stream",
     "text": [
      "... processed 0 sentences\n",
      "... processed 10 sentences\n",
      "... processed 20 sentences\n",
      "... processed 30 sentences\n",
      "... processed 40 sentences\n",
      "... processed 50 sentences\n",
      "... processed 60 sentences\n",
      "... processed 70 sentences\n",
      "... processed 80 sentences\n",
      "... processed 90 sentences\n",
      "CPU times: user 2.22 s, sys: 104 ms, total: 2.32 s\n",
      "Wall time: 28.9 s\n"
     ]
    }
   ],
   "source": [
    "%%time\n",
    "val100_hat = []\n",
    "for i in xrange(100):\n",
    "    val_hat = l.analyze(val100_raw[i]['text']).entities\n",
    "    val100_hat.append(luispy_to_entities_list(val_hat))\n",
    "    if i%10==0:\n",
    "        print \"... processed %d sentences\" % i"
   ]
  },
  {
   "cell_type": "code",
   "execution_count": 295,
   "metadata": {
    "collapsed": false
   },
   "outputs": [
    {
     "name": "stdout",
     "output_type": "stream",
     "text": [
      "0.737619047619\n"
     ]
    }
   ],
   "source": [
    "import numpy as np\n",
    "val100_jaccard = [jaccard(true,hat) for true,hat in zip(val100_true,val100_hat)]\n",
    "print np.mean(val100_jaccard)"
   ]
  },
  {
   "cell_type": "code",
   "execution_count": 310,
   "metadata": {
    "collapsed": false
   },
   "outputs": [
    {
     "data": {
      "text/plain": [
       "[[(u'atlanta', u'from_loc::fromloc.city_name'),\n",
       "  (u'DIGIT', u'depart_time_meal::depart_time.time'),\n",
       "  (u'afternoon', u'depart_time_meal::depart_time.period_of_day'),\n",
       "  (u'san francisco', u'stop_to_loc::toloc.city_name')],\n",
       " [(u'canadian airlines international', u'from_loc::airline_name')],\n",
       " [(u'earliest', u'flight::flight_mod'),\n",
       "  (u'boston', u'from_loc::fromloc.city_name'),\n",
       "  (u'atlanta', u'stop_to_loc::toloc.city_name')],\n",
       " [(u'us air', u'from_loc::airline_name'),\n",
       "  (u'atlanta', u'from_loc::fromloc.city_name'),\n",
       "  (u'boston', u'stop_to_loc::toloc.city_name')],\n",
       " [(u'round trips', u'flight::round_trip'),\n",
       "  (u'dallas', u'from_loc::fromloc.city_name'),\n",
       "  (u'baltimore', u'stop_to_loc::toloc.city_name')]]"
      ]
     },
     "execution_count": 310,
     "metadata": {},
     "output_type": "execute_result"
    }
   ],
   "source": [
    "val100_true[:5]"
   ]
  },
  {
   "cell_type": "code",
   "execution_count": 311,
   "metadata": {
    "collapsed": false
   },
   "outputs": [
    {
     "data": {
      "text/plain": [
       "[[('atlanta', 'from_loc::fromloc.city_name'),\n",
       "  ('afternoon', 'depart_time_meal::depart_time.period_of_day'),\n",
       "  ('san francisco', 'stop_to_loc::toloc.city_name')],\n",
       " [],\n",
       " [('earliest', 'flight::flight_mod'),\n",
       "  ('boston', 'from_loc::fromloc.city_name'),\n",
       "  ('atlanta', 'stop_to_loc::toloc.city_name')],\n",
       " [('us air', 'from_loc::airline_name'),\n",
       "  ('atlanta', 'from_loc::fromloc.city_name'),\n",
       "  ('boston', 'stop_to_loc::toloc.city_name')],\n",
       " [('dallas', 'from_loc::fromloc.city_name'),\n",
       "  ('baltimore', 'stop_to_loc::toloc.city_name')]]"
      ]
     },
     "execution_count": 311,
     "metadata": {},
     "output_type": "execute_result"
    }
   ],
   "source": [
    "val100_hat[:5]"
   ]
  },
  {
   "cell_type": "markdown",
   "metadata": {},
   "source": [
    "#### b. F1"
   ]
  },
  {
   "cell_type": "code",
   "execution_count": 301,
   "metadata": {
    "collapsed": true
   },
   "outputs": [],
   "source": [
    "from __future__ import division"
   ]
  },
  {
   "cell_type": "code",
   "execution_count": 306,
   "metadata": {
    "collapsed": true
   },
   "outputs": [],
   "source": [
    "def f1(trues,hats):\n",
    "    tp, fp, fn = 0, 0, 0\n",
    "    for true,hat in zip(trues,hats):\n",
    "        entries = set(true+hat) # all unique entries for this pair\n",
    "        for entry in entries:\n",
    "            if entry in hat and entry in true: tp += 1\n",
    "            elif entry in hat and entry not in true: fp += 1\n",
    "            elif entry in true and entry not in hat: fn += 1\n",
    "            else: pass\n",
    "    prec = tp/(tp+fp)\n",
    "    rec = tp/(tp+fn)\n",
    "    print \"Precision: %.2f%% | Recall: %.2f%% | F1: %.2f\" % (prec*100, rec*100, ((2*prec*rec)/(prec+rec))*100)"
   ]
  },
  {
   "cell_type": "code",
   "execution_count": 307,
   "metadata": {
    "collapsed": false
   },
   "outputs": [
    {
     "name": "stdout",
     "output_type": "stream",
     "text": [
      "Precision: 88.00% | Recall: 78.29% | F1: 82.86\n"
     ]
    }
   ],
   "source": [
    "f1(val100_true,val100_hat)"
   ]
  },
  {
   "cell_type": "code",
   "execution_count": 299,
   "metadata": {
    "collapsed": false
   },
   "outputs": [
    {
     "data": {
      "text/plain": [
       "[(u'atlanta', u'from_loc::fromloc.city_name'),\n",
       " (u'DIGIT', u'depart_time_meal::depart_time.time'),\n",
       " (u'afternoon', u'depart_time_meal::depart_time.period_of_day'),\n",
       " (u'san francisco', u'stop_to_loc::toloc.city_name')]"
      ]
     },
     "execution_count": 299,
     "metadata": {},
     "output_type": "execute_result"
    }
   ],
   "source": [
    "val100_true[0]"
   ]
  },
  {
   "cell_type": "code",
   "execution_count": 298,
   "metadata": {
    "collapsed": false
   },
   "outputs": [
    {
     "data": {
      "text/plain": [
       "[('atlanta', 'from_loc::fromloc.city_name'),\n",
       " ('afternoon', 'depart_time_meal::depart_time.period_of_day'),\n",
       " ('san francisco', 'stop_to_loc::toloc.city_name')]"
      ]
     },
     "execution_count": 298,
     "metadata": {},
     "output_type": "execute_result"
    }
   ],
   "source": [
    "val100_hat[0]"
   ]
  },
  {
   "cell_type": "code",
   "execution_count": 300,
   "metadata": {
    "collapsed": false
   },
   "outputs": [
    {
     "data": {
      "text/plain": [
       "{(u'DIGIT', u'depart_time_meal::depart_time.time'),\n",
       " (u'afternoon', u'depart_time_meal::depart_time.period_of_day'),\n",
       " (u'atlanta', u'from_loc::fromloc.city_name'),\n",
       " (u'san francisco', u'stop_to_loc::toloc.city_name')}"
      ]
     },
     "execution_count": 300,
     "metadata": {},
     "output_type": "execute_result"
    }
   ],
   "source": [
    "set(val100_true[0]+val100_hat[0])"
   ]
  },
  {
   "cell_type": "code",
   "execution_count": null,
   "metadata": {
    "collapsed": true
   },
   "outputs": [],
   "source": []
  },
  {
   "cell_type": "markdown",
   "metadata": {},
   "source": [
    "# Pipeline: LUIS => RNN\n",
    "\n",
    "* **Task I:** Take LUIS output (list of labeled entities with sents), translate it into RNN-input.\n",
    "* **Task II:** Evaluation (MAYBE)"
   ]
  },
  {
   "cell_type": "code",
   "execution_count": null,
   "metadata": {
    "collapsed": true
   },
   "outputs": [],
   "source": []
  },
  {
   "cell_type": "code",
   "execution_count": null,
   "metadata": {
    "collapsed": true
   },
   "outputs": [],
   "source": []
  },
  {
   "cell_type": "code",
   "execution_count": null,
   "metadata": {
    "collapsed": true
   },
   "outputs": [],
   "source": []
  },
  {
   "cell_type": "code",
   "execution_count": null,
   "metadata": {
    "collapsed": true
   },
   "outputs": [],
   "source": []
  }
 ],
 "metadata": {
  "kernelspec": {
   "display_name": "Python 2",
   "language": "python",
   "name": "python2"
  },
  "language_info": {
   "codemirror_mode": {
    "name": "ipython",
    "version": 2
   },
   "file_extension": ".py",
   "mimetype": "text/x-python",
   "name": "python",
   "nbconvert_exporter": "python",
   "pygments_lexer": "ipython2",
   "version": "2.7.11"
  }
 },
 "nbformat": 4,
 "nbformat_minor": 0
}
