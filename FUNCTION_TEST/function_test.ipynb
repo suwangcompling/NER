{
 "cells": [
  {
   "cell_type": "markdown",
   "metadata": {},
   "source": [
    "# Spacy Info"
   ]
  },
  {
   "cell_type": "code",
   "execution_count": 3,
   "metadata": {
    "collapsed": false
   },
   "outputs": [],
   "source": [
    "from spacy.en import English"
   ]
  },
  {
   "cell_type": "code",
   "execution_count": 4,
   "metadata": {
    "collapsed": true
   },
   "outputs": [],
   "source": [
    "parser = English()"
   ]
  },
  {
   "cell_type": "code",
   "execution_count": 27,
   "metadata": {
    "collapsed": false
   },
   "outputs": [],
   "source": [
    "parsed = parser(u\"I want a 5 beds house\")"
   ]
  },
  {
   "cell_type": "code",
   "execution_count": 63,
   "metadata": {
    "collapsed": true
   },
   "outputs": [],
   "source": [
    "def dependencies(sent):\n",
    "    parsed = parser(unicode(sent))\n",
    "    return {token.orth_:token.head.orth_ for token in parsed}"
   ]
  },
  {
   "cell_type": "code",
   "execution_count": 64,
   "metadata": {
    "collapsed": false
   },
   "outputs": [
    {
     "data": {
      "text/plain": [
       "{u'3': u'beds',\n",
       " u'a': u'house',\n",
       " u'beds': u'house',\n",
       " u'house': u'need',\n",
       " u'i': u'need',\n",
       " u'need': u'need'}"
      ]
     },
     "execution_count": 64,
     "metadata": {},
     "output_type": "execute_result"
    }
   ],
   "source": [
    "dependencies('i need a 3 beds house')"
   ]
  },
  {
   "cell_type": "code",
   "execution_count": 128,
   "metadata": {
    "collapsed": false
   },
   "outputs": [
    {
     "data": {
      "text/plain": [
       "u'beds'"
      ]
     },
     "execution_count": 128,
     "metadata": {},
     "output_type": "execute_result"
    }
   ],
   "source": [
    "dependencies('i need a 3 beds house')['3']"
   ]
  },
  {
   "cell_type": "code",
   "execution_count": 65,
   "metadata": {
    "collapsed": false
   },
   "outputs": [
    {
     "data": {
      "text/plain": [
       "{u'-': u'5',\n",
       " u'3': u'beds',\n",
       " u'5': u'3',\n",
       " u'a': u'house',\n",
       " u'beds': u'house',\n",
       " u'house': u'need',\n",
       " u'i': u'need',\n",
       " u'need': u'need'}"
      ]
     },
     "execution_count": 65,
     "metadata": {},
     "output_type": "execute_result"
    }
   ],
   "source": [
    "dependencies('i need a 3-5 beds house')"
   ]
  },
  {
   "cell_type": "code",
   "execution_count": 66,
   "metadata": {
    "collapsed": false
   },
   "outputs": [
    {
     "data": {
      "text/plain": [
       "{u'3': u'5',\n",
       " u'5': u'beds',\n",
       " u'a': u'house',\n",
       " u'beds': u'house',\n",
       " u'house': u'need',\n",
       " u'i': u'need',\n",
       " u'need': u'need',\n",
       " u'to': u'5'}"
      ]
     },
     "execution_count": 66,
     "metadata": {},
     "output_type": "execute_result"
    }
   ],
   "source": [
    "dependencies('i need a 3 to 5 beds house')"
   ]
  },
  {
   "cell_type": "code",
   "execution_count": 67,
   "metadata": {
    "collapsed": false
   },
   "outputs": [
    {
     "data": {
      "text/plain": [
       "['i', 'need', 'a', '3-5', 'beds', 'house']"
      ]
     },
     "execution_count": 67,
     "metadata": {},
     "output_type": "execute_result"
    }
   ],
   "source": [
    "'i need a 3-5 beds house'.split()"
   ]
  },
  {
   "cell_type": "code",
   "execution_count": 68,
   "metadata": {
    "collapsed": false
   },
   "outputs": [
    {
     "data": {
      "text/plain": [
       "{u',': u'is',\n",
       " u'4000': u'sqft',\n",
       " u'5': u'beds',\n",
       " u'and': u'is',\n",
       " u'area': u'is',\n",
       " u'beds': u'has',\n",
       " u'has': u'is',\n",
       " u'house': u'of',\n",
       " u'is': u'is',\n",
       " u'of': u'area',\n",
       " u'sqft': u'is',\n",
       " u'the': u'house',\n",
       " u'total': u'area'}"
      ]
     },
     "execution_count": 68,
     "metadata": {},
     "output_type": "execute_result"
    }
   ],
   "source": [
    "dependencies('the total area of the house is 4000 sqft, and has 5 beds')"
   ]
  },
  {
   "cell_type": "code",
   "execution_count": 69,
   "metadata": {
    "collapsed": false
   },
   "outputs": [],
   "source": [
    "def ner(sent):\n",
    "    parsed = parser(unicode(sent))\n",
    "    return {token.orth_:token.ent_type_ if token.ent_type_ != \"\" else u\"O\" for token in parsed}"
   ]
  },
  {
   "cell_type": "code",
   "execution_count": 70,
   "metadata": {
    "collapsed": false
   },
   "outputs": [
    {
     "data": {
      "text/plain": [
       "{u',': u'O',\n",
       " u'4000': u'QUANTITY',\n",
       " u'5': u'CARDINAL',\n",
       " u'and': u'O',\n",
       " u'area': u'O',\n",
       " u'beds': u'O',\n",
       " u'feet': u'QUANTITY',\n",
       " u'has': u'O',\n",
       " u'house': u'O',\n",
       " u'is': u'O',\n",
       " u'of': u'O',\n",
       " u'square': u'QUANTITY',\n",
       " u'the': u'O',\n",
       " u'total': u'O'}"
      ]
     },
     "execution_count": 70,
     "metadata": {},
     "output_type": "execute_result"
    }
   ],
   "source": [
    "ner('the total area of the house is 4000 square feet, and has 5 beds')"
   ]
  },
  {
   "cell_type": "markdown",
   "metadata": {},
   "source": [
    "# Feature Extraction"
   ]
  },
  {
   "cell_type": "code",
   "execution_count": 89,
   "metadata": {
    "collapsed": true
   },
   "outputs": [],
   "source": [
    "import re\n",
    "import numpy as np"
   ]
  },
  {
   "cell_type": "code",
   "execution_count": 145,
   "metadata": {
    "collapsed": true
   },
   "outputs": [],
   "source": [
    "bed_word = re.compile('bds*|bed\\w*')\n",
    "bath_word = re.compile('ba(s|th)\\w*')\n",
    "area_word = re.compile('sqrt|square|feet|space|lot|acre')\n",
    "price_word = re.compile('\\$|how much|dollar\\w*|bucks|cost|k|thousand|million|m|afford|spend')"
   ]
  },
  {
   "cell_type": "code",
   "execution_count": 146,
   "metadata": {
    "collapsed": true
   },
   "outputs": [],
   "source": [
    "tagset = {0:'BED',1:'BATH',2:'AREA',3:'PRICE'}"
   ]
  },
  {
   "cell_type": "code",
   "execution_count": 151,
   "metadata": {
    "collapsed": false
   },
   "outputs": [],
   "source": [
    "def tag(sent):\n",
    "    deps = dependencies(sent)\n",
    "    ners = ner(sent)\n",
    "    tokens = sent.split()\n",
    "    tags = []\n",
    "    for token in tokens:\n",
    "        if not token.isdigit(): \n",
    "            tags += ['O']\n",
    "            continue\n",
    "        elif bed_word.match(deps[token]): tags += ['BED']\n",
    "        elif bath_word.match(deps[token]): tags += ['BATH']\n",
    "        elif area_word.match(deps[token]): tags += ['AREA']\n",
    "        elif price_word.match(deps[token]): tags += ['PRICE']\n",
    "        else:\n",
    "            tags += [tagset[np.argmax([len(bed_word.findall(sent)),\n",
    "                                       len(bath_word.findall(sent)),\n",
    "                                       len(area_word.findall(sent)),\n",
    "                                       len(price_word.findall(sent))])]]\n",
    "    return zip(tokens,tags)"
   ]
  },
  {
   "cell_type": "code",
   "execution_count": 152,
   "metadata": {
    "collapsed": true
   },
   "outputs": [],
   "source": [
    "s1 = 'i want to see a 5 bath house'\n",
    "s2 = 'the total area of the house is 4000 square feet, and has 5 beds'"
   ]
  },
  {
   "cell_type": "code",
   "execution_count": 153,
   "metadata": {
    "collapsed": false
   },
   "outputs": [
    {
     "data": {
      "text/plain": [
       "[('i', 'O'),\n",
       " ('want', 'O'),\n",
       " ('to', 'O'),\n",
       " ('see', 'O'),\n",
       " ('a', 'O'),\n",
       " ('5', 'BATH'),\n",
       " ('bath', 'O'),\n",
       " ('house', 'O')]"
      ]
     },
     "execution_count": 153,
     "metadata": {},
     "output_type": "execute_result"
    }
   ],
   "source": [
    "tag(s1)"
   ]
  },
  {
   "cell_type": "code",
   "execution_count": 154,
   "metadata": {
    "collapsed": false
   },
   "outputs": [
    {
     "data": {
      "text/plain": [
       "[('the', 'O'),\n",
       " ('total', 'O'),\n",
       " ('area', 'O'),\n",
       " ('of', 'O'),\n",
       " ('the', 'O'),\n",
       " ('house', 'O'),\n",
       " ('is', 'O'),\n",
       " ('4000', 'AREA'),\n",
       " ('square', 'O'),\n",
       " ('feet,', 'O'),\n",
       " ('and', 'O'),\n",
       " ('has', 'O'),\n",
       " ('5', 'BED'),\n",
       " ('beds', 'O')]"
      ]
     },
     "execution_count": 154,
     "metadata": {},
     "output_type": "execute_result"
    }
   ],
   "source": [
    "tag(s2)"
   ]
  },
  {
   "cell_type": "code",
   "execution_count": null,
   "metadata": {
    "collapsed": true
   },
   "outputs": [],
   "source": []
  },
  {
   "cell_type": "code",
   "execution_count": null,
   "metadata": {
    "collapsed": true
   },
   "outputs": [],
   "source": []
  },
  {
   "cell_type": "code",
   "execution_count": null,
   "metadata": {
    "collapsed": true
   },
   "outputs": [],
   "source": []
  }
 ],
 "metadata": {
  "kernelspec": {
   "display_name": "Python 2",
   "language": "python",
   "name": "python2"
  },
  "language_info": {
   "codemirror_mode": {
    "name": "ipython",
    "version": 2
   },
   "file_extension": ".py",
   "mimetype": "text/x-python",
   "name": "python",
   "nbconvert_exporter": "python",
   "pygments_lexer": "ipython2",
   "version": "2.7.11"
  }
 },
 "nbformat": 4,
 "nbformat_minor": 0
}
