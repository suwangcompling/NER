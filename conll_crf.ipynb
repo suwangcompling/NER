{
 "cells": [
  {
   "cell_type": "markdown",
   "metadata": {},
   "source": [
    "# Load CoNLL 2002 for CRF"
   ]
  },
  {
   "cell_type": "code",
   "execution_count": 9,
   "metadata": {
    "collapsed": true
   },
   "outputs": [],
   "source": [
    "from nltk.corpus import conll2002\n",
    "from nltk.stem import PorterStemmer\n",
    "porter = PorterStemmer()"
   ]
  },
  {
   "cell_type": "code",
   "execution_count": 13,
   "metadata": {
    "collapsed": true
   },
   "outputs": [],
   "source": [
    "def load_conll02_crf():\n",
    "    \n",
    "    # import data \n",
    "    tagged_sents = conll2002.iob_sents()\n",
    "    \n",
    "    # stemming, lowercasing\n",
    "    porter = PorterStemmer()\n",
    "    norm_sents = [[(porter.stem(w).lower(),pos,ne) for w,pos,ne in sent] for sent in tagged_sents]\n",
    "    \n",
    "    # create data in the format\n",
    "    #  X: [([w,...],[pos,...]),...]\n",
    "    #  Y: [[ne,...],...]\n",
    "    X = [([w for w,_,_ in norm_sent],[pos for _,pos,_ in norm_sent]) for norm_sent in norm_sents]\n",
    "    Y = [[ne for _,_,ne in norm_sent] for norm_sent in norm_sents]\n",
    "    \n",
    "    # train-valid-test split\n",
    "    def train_valid_test_split(X,Y):\n",
    "        n = len(X)\n",
    "        cutoff = int(n*.8)\n",
    "        return (X[:cutoff],Y[:cutoff]), (X[cutoff:],Y[cutoff:])  \n",
    "    train, test = train_valid_test_split(X,Y)\n",
    "    \n",
    "    return train, test   "
   ]
  },
  {
   "cell_type": "code",
   "execution_count": 14,
   "metadata": {
    "collapsed": false,
    "scrolled": true
   },
   "outputs": [
    {
     "name": "stdout",
     "output_type": "stream",
     "text": [
      "CPU times: user 9.08 s, sys: 183 ms, total: 9.26 s\n",
      "Wall time: 9.32 s\n"
     ]
    }
   ],
   "source": [
    "%%time\n",
    "(X_train, Y_train), (X_test, Y_test) = load_conll02_crf()"
   ]
  },
  {
   "cell_type": "code",
   "execution_count": 16,
   "metadata": {
    "collapsed": false,
    "scrolled": true
   },
   "outputs": [
    {
     "name": "stdout",
     "output_type": "stream",
     "text": [
      "([u'sao', u'paulo', u'(', u'brasil', u')', u',', u'23', u'may', u'(', u'efecom', u')', u'.'], [u'NC', u'VMI', u'Fpa', u'NC', u'Fpt', u'Fc', u'Z', u'NC', u'Fpa', u'NP', u'Fpt', u'Fp'])\n"
     ]
    }
   ],
   "source": [
    "datum = X_train[0]\n",
    "print datum"
   ]
  },
  {
   "cell_type": "code",
   "execution_count": 18,
   "metadata": {
    "collapsed": false
   },
   "outputs": [
    {
     "name": "stdout",
     "output_type": "stream",
     "text": [
      "0 sao NC\n",
      "1 paulo VMI\n",
      "2 ( Fpa\n",
      "3 brasil NC\n",
      "4 ) Fpt\n",
      "5 , Fc\n",
      "6 23 Z\n",
      "7 may NC\n",
      "8 ( Fpa\n",
      "9 efecom NP\n",
      "10 ) Fpt\n",
      "11 . Fp\n"
     ]
    }
   ],
   "source": [
    "for i,(word,pos) in enumerate(zip(X_train[0][0],X_train[0][1])):\n",
    "    print i,word,pos"
   ]
  },
  {
   "cell_type": "code",
   "execution_count": 19,
   "metadata": {
    "collapsed": true
   },
   "outputs": [],
   "source": [
    "def featurize(datum): # format: ([w,...],[pos,...])\n",
    "    \n",
    "    words, pos = datum\n",
    "    len_sent = len(words)\n",
    "    all_features = []\n",
    "    for i in xrange(len_sent):\n",
    "        features = [words[i],pos[i]]       \n",
    "        if i > 0:\n",
    "            features += ['-1'+words[i-1],'-1'+pos[i-1]]\n",
    "            if i > 1:\n",
    "                features += ['-2'+words[i-2],'-2'+pos[i-2]]\n",
    "            else: features += ['BOS']\n",
    "        else: features += ['BOS']\n",
    "        if i < len_sent-1:\n",
    "            features += ['+1'+words[i+1],'-1'+pos[i+1]]\n",
    "            if i < len_sent-2:\n",
    "                features += ['+2'+words[i+2],'+2'+pos[i+2]]\n",
    "            else: features += ['EOS']\n",
    "        else: features += ['EOS']\n",
    "        all_features.append(features)\n",
    "    \n",
    "    return all_features\n",
    "        "
   ]
  },
  {
   "cell_type": "code",
   "execution_count": 23,
   "metadata": {
    "collapsed": false
   },
   "outputs": [
    {
     "name": "stdout",
     "output_type": "stream",
     "text": [
      "[u'sao', u'NC', 'BOS', u'+1paulo', u'-1VMI', u'+2(', u'+2Fpa']\n",
      "[u'paulo', u'VMI', u'-1sao', u'-1NC', 'BOS', u'+1(', u'-1Fpa', u'+2brasil', u'+2NC']\n"
     ]
    }
   ],
   "source": [
    "print featurize(datum)[0]\n",
    "print featurize(datum)[1]"
   ]
  },
  {
   "cell_type": "code",
   "execution_count": 24,
   "metadata": {
    "collapsed": true
   },
   "outputs": [],
   "source": [
    "train = (X_train, Y_train)\n",
    "test = (X_test, Y_test)"
   ]
  },
  {
   "cell_type": "code",
   "execution_count": null,
   "metadata": {
    "collapsed": true
   },
   "outputs": [],
   "source": []
  },
  {
   "cell_type": "markdown",
   "metadata": {},
   "source": [
    "# CRF"
   ]
  },
  {
   "cell_type": "code",
   "execution_count": 31,
   "metadata": {
    "collapsed": true
   },
   "outputs": [],
   "source": [
    "from itertools import chain\n",
    "from sklearn.metrics import classification_report, confusion_matrix\n",
    "from sklearn.preprocessing import LabelBinarizer\n",
    "import sklearn\n",
    "import pycrfsuite"
   ]
  },
  {
   "cell_type": "code",
   "execution_count": 32,
   "metadata": {
    "collapsed": true
   },
   "outputs": [],
   "source": [
    "class CRF:\n",
    "    \n",
    "    def __init__(self, train, test, verbose=0, # train/test format: (X,Y), \n",
    "                                               #  where X = [([w,...],[pos,...]),...]\n",
    "                                               #        Y = [[ne,...],...]\n",
    "                 config={'c1': 1.0, # coef for L1.\n",
    "                         'c2': 1e-3, # coef for L2.\n",
    "                         'max_iterations': 100,\n",
    "                         'feature.possible_transitions':True}, # include unseen transitions.\n",
    "                 tagger_name='crf.crfsuite', # name of generated tagger.\n",
    "                 featurizer=featurize):\n",
    "        \n",
    "        print \"... featurizing data\"\n",
    "        self.featurizer = featurizer\n",
    "        self.X_train = [self.featurizer(datum) for datum in train[0]]\n",
    "        self.Y_train = train[1]\n",
    "        self.X_test = [self.featurizer(datum) for datum in test[0]]\n",
    "        self.Y_test = test[1]\n",
    "\n",
    "        print \"... loading data into CRF\"\n",
    "        crf = pycrfsuite.Trainer(verbose=verbose)\n",
    "        for x,y in zip(self.X_train, self.Y_train):\n",
    "            crf.append(x,y)\n",
    "        crf.set_params(config)\n",
    "        print \"... training\"\n",
    "        crf.train(tagger_name)\n",
    "        self.tagger = pycrfsuite.Tagger()\n",
    "        self.tagger.open(tagger_name)\n",
    "    \n",
    "    def evaluate(self):\n",
    "        y_true = self.Y_test\n",
    "        y_pred = [self.tagger.tag(sent) for sent in self.X_test] # sent here is [[feat,...],...]\n",
    "        lb = LabelBinarizer()\n",
    "        y_true_in_tags = lb.fit_transform(list(chain.from_iterable(y_true))) # get a list of tags in 1-hot.\n",
    "        y_pred_in_tags = lb.transform(list(chain.from_iterable(y_pred)))\n",
    "        tagset = list(set(lb.classes_))\n",
    "        class_indices = {cls:idx for idx,cls in enumerate(lb.classes_)}\n",
    "        print classification_report(\n",
    "            y_true_in_tags,\n",
    "            y_pred_in_tags,\n",
    "            labels = [class_indices[cls] for cls in tagset],\n",
    "            target_names = tagset\n",
    "        )\n",
    "        "
   ]
  },
  {
   "cell_type": "code",
   "execution_count": 33,
   "metadata": {
    "collapsed": false
   },
   "outputs": [
    {
     "name": "stdout",
     "output_type": "stream",
     "text": [
      "... featurizing data\n",
      "... loading data into CRF\n",
      "... training\n",
      "CPU times: user 1min 25s, sys: 819 ms, total: 1min 26s\n",
      "Wall time: 1min 26s\n"
     ]
    }
   ],
   "source": [
    "%%time\n",
    "crf = CRF(train, test)"
   ]
  },
  {
   "cell_type": "code",
   "execution_count": 34,
   "metadata": {
    "collapsed": false
   },
   "outputs": [
    {
     "name": "stdout",
     "output_type": "stream",
     "text": [
      "             precision    recall  f1-score   support\n",
      "\n",
      "          O       0.97      0.99      0.98     83525\n",
      "      I-LOC       0.67      0.18      0.29       342\n",
      "      B-ORG       0.75      0.48      0.58       642\n",
      "      I-PER       0.74      0.85      0.79      1446\n",
      "      B-PER       0.72      0.62      0.66      2075\n",
      "     I-MISC       0.56      0.36      0.44       778\n",
      "     B-MISC       0.78      0.44      0.57      1434\n",
      "      I-ORG       0.62      0.64      0.63       417\n",
      "      B-LOC       0.89      0.56      0.69      1615\n",
      "\n",
      "avg / total       0.95      0.95      0.95     92274\n",
      "\n",
      "CPU times: user 760 ms, sys: 23.8 ms, total: 783 ms\n",
      "Wall time: 789 ms\n"
     ]
    }
   ],
   "source": [
    "%%time\n",
    "crf.evaluate()"
   ]
  },
  {
   "cell_type": "code",
   "execution_count": 35,
   "metadata": {
    "collapsed": true
   },
   "outputs": [],
   "source": [
    "from sklearn.metrics import accuracy_score"
   ]
  },
  {
   "cell_type": "code",
   "execution_count": 36,
   "metadata": {
    "collapsed": true
   },
   "outputs": [],
   "source": [
    "y_true = crf.Y_test\n",
    "y_pred = [crf.tagger.tag(sent) for sent in crf.X_test]\n",
    "y_true_merged = list(chain.from_iterable(y_true))\n",
    "y_pred_merged = list(chain.from_iterable(y_pred))"
   ]
  },
  {
   "cell_type": "code",
   "execution_count": 37,
   "metadata": {
    "collapsed": false
   },
   "outputs": [
    {
     "name": "stdout",
     "output_type": "stream",
     "text": [
      "Accuracy: 0.95\n"
     ]
    }
   ],
   "source": [
    "print \"Accuracy: %.2f\" % accuracy_score(y_true_merged,y_pred_merged)"
   ]
  },
  {
   "cell_type": "code",
   "execution_count": null,
   "metadata": {
    "collapsed": true
   },
   "outputs": [],
   "source": []
  }
 ],
 "metadata": {
  "kernelspec": {
   "display_name": "Python 2",
   "language": "python",
   "name": "python2"
  },
  "language_info": {
   "codemirror_mode": {
    "name": "ipython",
    "version": 2
   },
   "file_extension": ".py",
   "mimetype": "text/x-python",
   "name": "python",
   "nbconvert_exporter": "python",
   "pygments_lexer": "ipython2",
   "version": "2.7.11"
  }
 },
 "nbformat": 4,
 "nbformat_minor": 0
}
